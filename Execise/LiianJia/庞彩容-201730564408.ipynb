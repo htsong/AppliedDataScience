{
 "cells": [
  {
   "cell_type": "code",
   "execution_count": 76,
   "metadata": {},
   "outputs": [
    {
     "name": "stdout",
     "output_type": "stream",
     "text": [
      "均值:99.14930100941842,方差:2599.7517937632288,最大值:1019.0,最小值:2.0,偏度:2.982401438733199,峰度:23.45613086398495,众数:89.0\n",
      "第一四分位数:88.0,中位数:118.0,第三四分位数:1019.0\n"
     ]
    }
   ],
   "source": [
    "file=open(\"lianjia.csv\",encoding=\"utf-8\")\n",
    "room_data=[]\n",
    "for line in file:\n",
    "    if line.strip()!=\"\":\n",
    "        room_data.append(line.strip().split(\",\"))\n",
    "room_header,room_data=room_data[0],room_data[1:]\n",
    "\n",
    "hd,dt=room_header,room_data\n",
    "idx=hd.index(\"Size\")\n",
    "sizelst=[float(item[idx]) for item in dt]\n",
    "\n",
    "avg=sum(sizelst)/len(sizelst)\n",
    "sum1=0\n",
    "sum2=0\n",
    "sum3=0\n",
    "size_dict=dict()\n",
    "for size in sizelst:\n",
    "    sum1=sum1+(size-avg)**2\n",
    "    sum2=sum2+(size-avg)**3\n",
    "    sum3=sum3+(size-avg)**4\n",
    "    size_dict[size]=size_dict.get(size,0)+1\n",
    "var=sum1/len(sizelst)\n",
    "skew=len(sizelst)**(1/2)*sum2/sum1**(3/2)\n",
    "kurt=len(sizelst)*sum3/sum1**2\n",
    "\n",
    "for key,val in size_dict.items():\n",
    "    if val==max(size_dict.values()):\n",
    "        a=key\n",
    "        \n",
    "n=len(sizelst)\n",
    "sizelst.sort()\n",
    "lst=list()\n",
    "for i in [1,2,3]:\n",
    "    if int((i+1)/4*n)==(i+1)/4*n:\n",
    "        lst.append(sizelst[int((i+1)/4*n-1)])\n",
    "    else:\n",
    "        b=sizelst[int((i+1)/4*n)]*(int((i+1)/4*n)+1-(i+1)/4*n)+sizelst[int((i+1)/4*n+1)]*((i+1)/4*n-int((i+1)/4*n))\n",
    "        lst.append(b)\n",
    "\n",
    "print(\"均值:{},方差:{},最大值:{},最小值:{},偏度:{},峰度:{},众数:{}\".format(avg,var,max(sizelst),min(sizelst),skew,kurt,a))\n",
    "print(\"第一四分位数:{},中位数:{},第三四分位数:{}\".format(lst[0],lst[1],lst[2]))"
   ]
  },
  {
   "cell_type": "code",
   "execution_count": 116,
   "metadata": {},
   "outputs": [
    {
     "name": "stdout",
     "output_type": "stream",
     "text": [
      "[('1950', 1), ('1953', 1), ('1955', 3), ('1956', 1), ('1957', 3), ('1958', 4), ('1960', 4), ('1962', 2), ('1963', 5), ('1964', 2), ('1965', 2), ('1966', 1), ('1970', 9), ('1971', 2), ('1974', 5), ('1975', 3), ('1976', 11), ('1977', 5), ('1978', 13), ('1979', 21), ('1980', 71), ('1981', 20), ('1982', 45), ('1983', 45), ('1984', 62), ('1985', 82), ('1986', 66), ('1987', 82), ('1988', 113), ('1989', 94), ('1990', 191), ('1991', 84), ('1992', 129), ('1993', 106), ('1994', 118), ('1995', 204), ('1996', 200), ('1997', 168), ('1998', 291), ('1999', 329), ('2000', 495), ('2001', 433), ('2002', 558), ('2003', 734), ('2004', 907), ('2005', 765), ('2006', 611), ('2007', 583), ('2008', 589), ('2009', 652), ('2010', 512), ('2011', 380), ('2012', 514), ('2013', 379), ('2014', 368), ('2015', 194), ('2016', 59), ('2017', 14)]\n",
      "['2004', '2005', '2003', '2009', '2006', '2008', '2007', '2002', '2012', '2010']\n"
     ]
    }
   ],
   "source": [
    "#问题：统计精装二手房子年份的分布情况；最多的十个年份是？\n",
    "#思路：先把文件中的数据提取出来，再提取其中是精装二手房的Year的数据，再利用字典对年份的数据进行统计，再提取数量排行前十的年份。\n",
    "file=open(\"lianjia.csv\",encoding=\"utf-8\")\n",
    "room_data=[]\n",
    "for line in file:\n",
    "    if line.strip()!=\"\":\n",
    "        room_data.append(line.strip().split(\",\"))\n",
    "hd,dt=room_data[0],room_data[1:]\n",
    "\n",
    "idx1=hd.index(\"Renovation\")\n",
    "idx2=hd.index(\"Year\")\n",
    "yearlst=[]\n",
    "for item in dt:\n",
    "    if item[idx1]==\"精装\":\n",
    "        yearlst.append(item[idx2])\n",
    "\n",
    "year_dict=dict()\n",
    "for year in yearlst:\n",
    "    year_dict[year]=year_dict.get(year,0)+1\n",
    "year_dict=sorted(year_dict.items())\n",
    "print(year_dict)\n",
    "\n",
    "year=list()\n",
    "for k,v in year_dict:\n",
    "    year.append((v,k))\n",
    "year=sorted(year,reverse=True)\n",
    "top10=list()\n",
    "for v,k in year[:10]:\n",
    "    top10.append(k)\n",
    "print(top10)"
   ]
  },
  {
   "cell_type": "code",
   "execution_count": 42,
   "metadata": {},
   "outputs": [
    {
     "ename": "SyntaxError",
     "evalue": "invalid syntax (<ipython-input-42-8060c76fce9b>, line 4)",
     "output_type": "error",
     "traceback": [
      "\u001b[1;36m  File \u001b[1;32m\"<ipython-input-42-8060c76fce9b>\"\u001b[1;36m, line \u001b[1;32m4\u001b[0m\n\u001b[1;33m    else:\u001b[0m\n\u001b[1;37m       ^\u001b[0m\n\u001b[1;31mSyntaxError\u001b[0m\u001b[1;31m:\u001b[0m invalid syntax\n"
     ]
    }
   ],
   "source": [
    "\n",
    "        \n"
   ]
  },
  {
   "cell_type": "code",
   "execution_count": null,
   "metadata": {},
   "outputs": [],
   "source": []
  }
 ],
 "metadata": {
  "kernelspec": {
   "display_name": "Python 3",
   "language": "python",
   "name": "python3"
  },
  "language_info": {
   "codemirror_mode": {
    "name": "ipython",
    "version": 3
   },
   "file_extension": ".py",
   "mimetype": "text/x-python",
   "name": "python",
   "nbconvert_exporter": "python",
   "pygments_lexer": "ipython3",
   "version": "3.7.4"
  }
 },
 "nbformat": 4,
 "nbformat_minor": 2
}
