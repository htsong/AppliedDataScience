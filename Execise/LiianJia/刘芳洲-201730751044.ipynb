{
 "cells": [
  {
   "cell_type": "code",
   "execution_count": 1,
   "metadata": {},
   "outputs": [],
   "source": [
    "a=[]\n",
    "f=open('lianjia.csv','r', encoding='UTF-8')\n",
    "for line in f:\n",
    "    a.append(line.strip().split(\",\"))\n",
    "a = [n for n in a if n != [\"\"]]  #去掉空列表\n",
    "fhead=a[0]  #提取标题行\n",
    "fcon=a[1:]  #除去标题行"
   ]
  },
  {
   "cell_type": "markdown",
   "metadata": {},
   "source": [
    "1. **对数据进行整体分析：**"
   ]
  },
  {
   "cell_type": "code",
   "execution_count": 2,
   "metadata": {},
   "outputs": [
    {
     "name": "stdout",
     "output_type": "stream",
     "text": [
      "一共统计了 12 个变量\n",
      "一共收录了 23677 条记录\n"
     ]
    }
   ],
   "source": [
    "print(\"一共统计了\",len(fhead),\"个变量\")\n",
    "print(\"一共收录了\",len(fcon),\"条记录\")"
   ]
  },
  {
   "cell_type": "markdown",
   "metadata": {},
   "source": [
    "2. **对price和size进一步描述：**"
   ]
  },
  {
   "cell_type": "code",
   "execution_count": 5,
   "metadata": {},
   "outputs": [],
   "source": [
    "size=[float(i[fhead.index(\"Size\")]) for i in fcon]   \n",
    "price=[float(i[fhead.index(\"Price\")]) for i in fcon]"
   ]
  },
  {
   "cell_type": "code",
   "execution_count": 3,
   "metadata": {},
   "outputs": [],
   "source": [
    "def mode(dct_name):    #求众数\n",
    "    dict_p={}\n",
    "    for name in dct_name:\n",
    "        if name in dict_p:\n",
    "            dict_p[name] = dict_p[name]+1\n",
    "        else: \n",
    "            dict_p[name] = 1\n",
    "    #输出时list包含数字不能直接join，需要遍历'%s' %id for id in list\n",
    "    return \"\".join('%s' %id for id in [k for (k,v) in dict_p.items() if v == max(dict_p.values())]) "
   ]
  },
  {
   "cell_type": "code",
   "execution_count": 4,
   "metadata": {},
   "outputs": [],
   "source": [
    "def median(dat):   #求中位数\n",
    "    dat.sort()\n",
    "    half = len(dat) // 2\n",
    "    return (dat[half] + dat[~half]) / 2"
   ]
  },
  {
   "cell_type": "code",
   "execution_count": 6,
   "metadata": {
    "scrolled": true
   },
   "outputs": [
    {
     "name": "stdout",
     "output_type": "stream",
     "text": [
      " \n",
      "收录的价格数据情况：\n",
      "最大值为 6000.0 \n",
      "最小值为 60.0 \n",
      "均值为 610.6683194661488\n",
      "众数为 450.0\n",
      "中位数为 499.0\n",
      " \n",
      "收录的房屋面积数据情况：\n",
      "最大值为 1019.0 \n",
      "最小值为 2.0 \n",
      "均值为 99.14930100941842\n",
      "众数为 89.0\n",
      "中位数为 88.0\n"
     ]
    }
   ],
   "source": [
    "print(\" \\n\"+\"收录的价格数据情况：\")\n",
    "print(\"最大值为\",max(price),\"\\n最小值为\",min(price),\"\\n均值为\",sum(price)/len(price))\n",
    "print(\"众数为\",mode(price))\n",
    "print(\"中位数为\",median(price))\n",
    "print(\" \\n\"+\"收录的房屋面积数据情况：\")\n",
    "print(\"最大值为\",max(size),\"\\n最小值为\",min(size),\"\\n均值为\",sum(size)/len(size))\n",
    "print(\"众数为\",mode(size))\n",
    "print(\"中位数为\",median(size))"
   ]
  },
  {
   "cell_type": "markdown",
   "metadata": {},
   "source": [
    "3.**提出与数据相关的1至2个问题，并分析其解决思路，并给出对应的程序实现:**"
   ]
  },
  {
   "cell_type": "markdown",
   "metadata": {},
   "source": [
    "* 问题1：链家哪个区域的二手房数量最多？\n",
    "* 解决思路：先将区域列提取出来构造成新的列表，再利用字典统计出现次数最多的区域。"
   ]
  },
  {
   "cell_type": "code",
   "execution_count": 8,
   "metadata": {},
   "outputs": [
    {
     "name": "stdout",
     "output_type": "stream",
     "text": [
      " \n",
      "房源最多的区域是 长阳\n"
     ]
    }
   ],
   "source": [
    "distr=[i[fhead.index(\"District\")] for i in fcon]\n",
    "dict_d={}   #统计各区域房源数\n",
    "for name in distr:\n",
    "    if name in dict_d:\n",
    "        dict_d[name] = dict_d[name]+1\n",
    "    else: \n",
    "        dict_d[name] = 1\n",
    "print(\" \\n\"+\"房源最多的区域是\",\"\".join([k for (k,v) in dict_d.items() if v == max(dict_d.values())]))"
   ]
  },
  {
   "cell_type": "markdown",
   "metadata": {},
   "source": [
    "* 问题2：从时间跨度平均，链家哪个区域的二手房平均均价最大？\n",
    "* 解决思路：先遍历计算出每套房的均价，使用字典统计每个区域的均价情况。"
   ]
  },
  {
   "cell_type": "code",
   "execution_count": 14,
   "metadata": {},
   "outputs": [
    {
     "name": "stdout",
     "output_type": "stream",
     "text": [
      " \n",
      "均价最高的区域是 丽泽 ，均价为 45.15973392502084\n"
     ]
    }
   ],
   "source": [
    "dict_adr={}\n",
    "fhead.append(\"ADR\")\n",
    "for ite in fcon:  #增加均价列\n",
    "    ite.append(float(ite[fhead.index(\"Price\")])/float(ite[fhead.index(\"Size\")]))\n",
    "    if ite[fhead.index(\"District\")] in dict_adr:     #在字典中加总各区域均价\n",
    "        dict_adr[ite[fhead.index(\"District\")]]=dict_adr[ite[fhead.index(\"District\")]]+float(ite[fhead.index(\"ADR\")])\n",
    "    else:\n",
    "        dict_adr[ite[fhead.index(\"District\")]]=float(ite[fhead.index(\"ADR\")])\n",
    "        \n",
    "for ite in dict_adr.keys():\n",
    "    for ite2 in dict_d.keys():\n",
    "        if ite==ite2 : dict_adr[ite]=dict_adr[ite]/dict_d[ite2]\n",
    "print(\" \\n\"+\"均价最高的区域是\",\"\".join([k for (k,v) in dict_adr.items() if v == max(dict_adr.values())]),\"，均价为\",max(dict_adr.values()))"
   ]
  },
  {
   "cell_type": "markdown",
   "metadata": {},
   "source": [
    "4.**数据可视化，显示均价最高的十个区域的均价情况：**"
   ]
  },
  {
   "cell_type": "code",
   "execution_count": 10,
   "metadata": {},
   "outputs": [],
   "source": [
    "import matplotlib.pyplot as plt\n",
    "dics=sorted(dict_adr.items(),key = lambda x:x[1],reverse = True)[:10]  #截取前10放入列表\n",
    "mean_values = [n[1] for n in dics]\n",
    "bar_labels = [n[0] for n in dics]"
   ]
  },
  {
   "cell_type": "code",
   "execution_count": 12,
   "metadata": {},
   "outputs": [
    {
     "data": {
      "image/png": "[encoded data removed]",
      "text/plain": [
       "<Figure size 432x288 with 1 Axes>"
      ]
     },
     "metadata": {
      "needs_background": "light"
     },
     "output_type": "display_data"
    }
   ],
   "source": [
    "# 绘制图形\n",
    "x_pos = list(range(len(bar_labels)))\n",
    "plt.bar(x_pos, mean_values, align='center', alpha=0.5)\n",
    "plt.grid()\n",
    "# 设置y轴高度\n",
    "max_y = max(zip(mean_values)) \n",
    "plt.ylim([0, 50])\n",
    "# 设置轴标签和标题\n",
    "plt.ylabel(\"各区域均价\")\n",
    "plt.xticks(x_pos, bar_labels)\n",
    "plt.show()"
   ]
  },
  {
   "cell_type": "code",
   "execution_count": null,
   "metadata": {},
   "outputs": [],
   "source": []
  }
 ],
 "metadata": {
  "kernelspec": {
   "display_name": "Python 3",
   "language": "python",
   "name": "python3"
  },
  "language_info": {
   "codemirror_mode": {
    "name": "ipython",
    "version": 3
   },
   "file_extension": ".py",
   "mimetype": "text/x-python",
   "name": "python",
   "nbconvert_exporter": "python",
   "pygments_lexer": "ipython3",
   "version": "3.7.3"
  }
 },
 "nbformat": 4,
 "nbformat_minor": 4
}
