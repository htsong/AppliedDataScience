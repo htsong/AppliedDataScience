{
 "cells": [
  {
   "cell_type": "code",
   "execution_count": 10,
   "metadata": {},
   "outputs": [
    {
     "name": "stdout",
     "output_type": "stream",
     "text": [
      "['Direction', 'District', 'Elevator', 'Floor', 'Garden', 'Id', 'Layout', 'Price', 'Region', 'Renovation', 'Size', 'Year'] \n",
      " [['东西', '灯市口', '', '6', '锡拉胡同21号院', '101102647043', '3室1厅', '780', '东城', '精装', '75.0', '1988'], ['南北', '东单', '无电梯', '6', '东华门大街', '101102650978', '2室1厅', '705', '东城', '精装', '60.0', '1988'], ['南西', '崇文门', '有电梯', '16', '新世界中心', '101102672743', '3室1厅', '1400', '东城', '其他', '210.0', '1996'], ['南', '崇文门', '', '7', '兴隆都市馨园', '101102577410', '1室1厅', '420', '东城', '精装', '39.0', '2004'], ['南', '陶然亭', '有电梯', '19', '中海紫御公馆', '101102574696', '2室2厅', '998', '东城', '精装', '90.0', '2010']]\n"
     ]
    }
   ],
   "source": [
    "file=open(\"lianjia.csv\",encoding=\"utf-8\")\n",
    "room_data=[]\n",
    "for line in file:\n",
    "    if line.strip()!=\"\":\n",
    "        room_data.append(line.strip().split(\",\"))\n",
    "hd,dt=room_data[0],room_data[1:]\n",
    "print(hd,\"\\n\",dt[:5])"
   ]
  },
  {
   "cell_type": "code",
   "execution_count": 11,
   "metadata": {},
   "outputs": [
    {
     "name": "stdout",
     "output_type": "stream",
     "text": [
      "max:1019.0,min:2.0,average:99.14930100941842\n"
     ]
    }
   ],
   "source": [
    "#对数据进行描述性分析（最大值、最小值、均值）\n",
    "idx=hd.index('Size')\n",
    "size_1st=[float(item[idx])for item in dt]\n",
    "print(\"max:{},min:{},average:{}\".format(max(size_1st),min(size_1st),sum(size_1st)/len(size_1st)))"
   ]
  },
  {
   "cell_type": "code",
   "execution_count": 14,
   "metadata": {
    "scrolled": true
   },
   "outputs": [
    {
     "name": "stdout",
     "output_type": "stream",
     "text": [
      "第一四分位数:66.0,第二四分位数:88.0,第三四分位数:118.0\n"
     ]
    }
   ],
   "source": [
    "#进行描述性分析（四分位数）\n",
    "def quarter1(size_2nd):\n",
    "    size_2nd=sorted(size_2nd)\n",
    "    length=len(size_2nd)\n",
    "    mid,rem=divmod(length,2)\n",
    "    if rem!=0:\n",
    "        return size_2nd[:mid],size_2nd[mid+1:],size_2nd[mid]\n",
    "    else:\n",
    "        return size_2nd[:mid-1],size_2nd[mid:],(size_2nd[mid-1]+size_2nd[mid])/2\n",
    "lefthalf,righthalf,q2=quarter1(size_1st)\n",
    "print(\"第一四分位数:{},第二四分位数:{},第三四分位数:{}\".format(quarter1(lefthalf)[2],q2,quarter1(righthalf)[2]))"
   ]
  },
  {
   "cell_type": "code",
   "execution_count": 21,
   "metadata": {},
   "outputs": [
    {
     "name": "stdout",
     "output_type": "stream",
     "text": [
      "方差:2599.7517937632183\n",
      "众数:89.0,出现次数为476\n",
      "偏度:0.28525918983026,峰度:1.0260167124887745\n"
     ]
    }
   ],
   "source": [
    "#进行描述性分析（方差、众数、偏度、峰度）\n",
    "\n",
    "def variance(a):\n",
    "    a1,a2=0,0\n",
    "    for i in a:\n",
    "        a1+=i**2\n",
    "        a2+=i\n",
    "        \n",
    "    return float(a1)/len(a)-(float(a2)/len(a))**2\n",
    "\n",
    "print(\"方差:{}\".format(variance(size_1st)))\n",
    "\n",
    "def mode(b):\n",
    "    counts=dict()\n",
    "    for j in b:\n",
    "        counts[j]=counts.get(j,0)+1\n",
    "    bigcount,bigword=None,None\n",
    "    for b1,b2 in counts.items():\n",
    "        if bigcount is None or b2>bigcount:\n",
    "            bigword,bigcount=b1,b2\n",
    "    return bigword,bigcount\n",
    "\n",
    "mode1,mode2=mode(size_1st)\n",
    "print(\"众数:{},出现次数为{}\".format(mode1,mode2))\n",
    "\n",
    "def skew_kurt(c):\n",
    "    c1,c2,c3=0,0,0\n",
    "    miu=sum(c)/len(c)\n",
    "    for n in c:\n",
    "        c1+=n**2\n",
    "    sigma=(float(c1)/len(c))**(1/2)\n",
    "    for h in c:\n",
    "        c2+=((h-miu)/sigma)**3\n",
    "    for f in c:\n",
    "        c3+=((f-miu)/sigma)**4\n",
    "    return float(c2)/len(c),float(c3)/len(c)\n",
    "\n",
    "skew,kurt=skew_kurt(size_1st)\n",
    "print(\"偏度:{},峰度:{}\".format(skew,kurt))\n",
    "\n",
    "    \n",
    "    "
   ]
  },
  {
   "cell_type": "code",
   "execution_count": 24,
   "metadata": {},
   "outputs": [
    {
     "name": "stdout",
     "output_type": "stream",
     "text": [
      "东城 1533\n",
      "西城 2130\n",
      "朝阳 2973\n",
      "海淀 2983\n",
      "丰台 2952\n",
      "昌平 2811\n",
      "大兴 2115\n",
      "房山 1442\n",
      "平谷 41\n",
      "怀柔 15\n",
      "密云 12\n",
      "门头沟 496\n",
      "顺义 1221\n",
      "亦庄开发区 469\n",
      "通州 1602\n",
      "石景山 882\n"
     ]
    }
   ],
   "source": [
    "#统计不同区域的二手房数量\n",
    "\n",
    "idx2=hd.index('Region')\n",
    "region_1st=[item[idx2]for item in dt]\n",
    "reg_counts=dict()\n",
    "for e in region_1st:\n",
    "    reg_counts[e]=reg_counts.get(e,0)+1\n",
    "for g in reg_counts:\n",
    "    print(g,reg_counts[g])\n"
   ]
  },
  {
   "cell_type": "code",
   "execution_count": null,
   "metadata": {},
   "outputs": [],
   "source": []
  }
 ],
 "metadata": {
  "kernelspec": {
   "display_name": "Python 3",
   "language": "python",
   "name": "python3"
  },
  "language_info": {
   "codemirror_mode": {
    "name": "ipython",
    "version": 3
   },
   "file_extension": ".py",
   "mimetype": "text/x-python",
   "name": "python",
   "nbconvert_exporter": "python",
   "pygments_lexer": "ipython3",
   "version": "3.7.4"
  }
 },
 "nbformat": 4,
 "nbformat_minor": 2
}
