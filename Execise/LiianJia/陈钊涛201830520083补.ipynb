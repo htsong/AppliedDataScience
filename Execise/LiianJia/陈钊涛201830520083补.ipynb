{
 "cells": [
  {
   "cell_type": "code",
   "execution_count": 1,
   "metadata": {},
   "outputs": [
    {
     "name": "stdout",
     "output_type": "stream",
     "text": [
      "请输入要查询的数据名Floor\n",
      "Floor的均值是13.11111111111111,方差是2.8811572515276223，最大值是32.0，最小值是3.0，四分位数是6.0    众数是22\n",
      "东西方向的平均单位价格是7.573023988785882\n",
      "南北方向的平均单位价格是8.30186293242954\n",
      "南西方向的平均单位价格是5.741379310344827\n",
      "南方向的平均单位价格是8.599169630857194\n",
      "东北方向的平均单位价格是6.768461566851393\n",
      "西方向的平均单位价格是7.575957322733754\n",
      "西南方向的平均单位价格是7.995997620684689\n",
      "东方向的平均单位价格是8.76470984020185\n",
      "西北方向的平均单位价格是7.4478091781177085\n",
      "北方向的平均单位价格是10.865800865800866\n",
      "南西南方向的平均单位价格是7.676056338028169\n",
      "西南西北方向的平均单位价格是9.933774834437086\n",
      "东南方向的平均单位价格是6.308616550578665\n",
      "西南东北方向的平均单位价格是7.318965517241379\n",
      "东西北方向的平均单位价格是8.561224489795919\n",
      "\n",
      "南西方向的单位价格最低,为5.741379310344827，北方向的单位价格最高，为10.865800865800866.\n"
     ]
    }
   ],
   "source": [
    "file=open('C:\\\\Users\\\\ahacz\\\\Desktop\\\\数据科学\\\\lianjia.txt',encoding='utf-8')\n",
    "data=[]\n",
    "for i in file:\n",
    "    if i.strip() != '' :\n",
    "        data.append(i.strip().split(','))\n",
    "file.close()\n",
    "rh,rd=data[0],data[1:]\n",
    "#描述性统计分析\n",
    "list1=[]\n",
    "def analysis(name):\n",
    "    idx=rh.index(name)\n",
    "    for i in range(99):\n",
    "        list1.append(float(rd[i][idx]))\n",
    "    ave1=sum(list1)/len(list1)#均值\n",
    "    for i in list1:\n",
    "        stdx=(i-ave1)**2\n",
    "    std=stdx/len(list1)#方差\n",
    "    max1=max(list1);min1=min(list1)#最大最小值\n",
    "    list2=list1.sort()\n",
    "    Q1=list1[int(len(list1)/4)]#四分位数\n",
    "    mode=max(list1.count(a) for a in list1)#众数\n",
    "    print('{0}的均值是{1},方差是{2}，最大值是{3}，最小值是{4}，四分位数是{5}\\\n",
    "    众数是{6}'.format(name,ave1,std,max1,min1,Q1,mode))\n",
    "nam=input('请输入要查询的数据名')\n",
    "analysis(nam)\n",
    "#分析方向与单位价格的关系\n",
    "pidx=rh.index('Price');sidx=rh.index('Size');didx=rh.index('Direction')\n",
    "dir=[]\n",
    "aves=[]\n",
    "dict1={}\n",
    "def rel(n):\n",
    "    sum=0\n",
    "    count=0\n",
    "    for i in range(99):\n",
    "        if rd[i][didx]==n:\n",
    "            sum+=float(rd[i][pidx])/float(rd[i][sidx])\n",
    "            count+=1\n",
    "    ave=sum/count\n",
    "    print('{0}方向的平均单位价格是{1}'.format(n,ave))\n",
    "    dict1[ave]=n\n",
    "    return ave\n",
    "for i in range(99):\n",
    "    if dir.count(rd[i][didx])==0:\n",
    "        dir.append(rd[i][didx])\n",
    "for i in dir:\n",
    "    aves.append(rel(i))\n",
    "print('\\n{0}方向的单位价格最低,为{1}，{2}方向的单位价格最高，为{3}.'\\\n",
    ".format(dict1[min(aves)],min(aves),dict1[max(aves)],max(aves)))\n"
   ]
  },
  {
   "cell_type": "code",
   "execution_count": null,
   "metadata": {},
   "outputs": [],
   "source": []
  }
 ],
 "metadata": {
  "kernelspec": {
   "display_name": "Python 3",
   "language": "python",
   "name": "python3"
  },
  "language_info": {
   "codemirror_mode": {
    "name": "ipython",
    "version": 3
   },
   "file_extension": ".py",
   "mimetype": "text/x-python",
   "name": "python",
   "nbconvert_exporter": "python",
   "pygments_lexer": "ipython3",
   "version": "3.7.6"
  }
 },
 "nbformat": 4,
 "nbformat_minor": 4
}
