{
 "cells": [
  {
   "cell_type": "code",
   "execution_count": null,
   "metadata": {
    "scrolled": true
   },
   "outputs": [],
   "source": [
    "def read_csv(filename):\n",
    "    room_data=list()\n",
    "    with open(filename,encoding='utf-8') as lianjiaf:\n",
    "        for line in lianjiaf.readlines():\n",
    "            if line.strip() != '':\n",
    "                room_data.append(line.strip().split(','))\n",
    "    room_hd=room_data[0]\n",
    "    room_data=room_data[1:]\n",
    "    return(room_hd,room_data)\n",
    "name=input('请输入文件名：')\n",
    "hd,dt=read_csv(name)\n",
    "idx1=hd.index('Size')\n",
    "idx2=hd.index('Price')\n",
    "#计算单位房价\n",
    "perprice_lst=[float(item1[idx2])/(float(item1[idx1])) for item1 in dt]\n",
    "print('max={},min={},average={}'.format(max(perprice_lst),min(perprice_lst),sum(perprice_lst)/len(perprice_lst)))\n",
    "#计算各种装修方式及其柱状图\n",
    "decoration=dict()\n",
    "idx3=hd.index('Renovation')\n",
    "for item2 in dt:\n",
    "    decoration[item2[idx3]]=decoration.get(item2[idx3],0)+1\n",
    "print(decoration)\n",
    "print()\n",
    "print('装修方式及其数量的柱状图')\n",
    "for key,value in decoration.items():\n",
    "    print(key,'$'*(value//100))\n",
    "print()\n",
    "#装修方式与房价的关系\n",
    "deco_price={}\n",
    "for key1,value1 in decoration.items():\n",
    "    price=0\n",
    "    for item3 in dt:\n",
    "        if item3[idx3]==key1:\n",
    "            price=price+float(item3[idx2])\n",
    "            continue\n",
    "    avg=price/value1\n",
    "    deco_price[key1]=avg\n",
    "print('装修方式与房价的关系')\n",
    "for key2,value2 in deco_price.items():\n",
    "    print(key2,'&'*(int(value2)//15))"
   ]
  }
 ],
 "metadata": {
  "kernelspec": {
   "display_name": "Python 3",
   "language": "python",
   "name": "python3"
  },
  "language_info": {
   "codemirror_mode": {
    "name": "ipython",
    "version": 3
   },
   "file_extension": ".py",
   "mimetype": "text/x-python",
   "name": "python",
   "nbconvert_exporter": "python",
   "pygments_lexer": "ipython3",
   "version": "3.7.4"
  }
 },
 "nbformat": 4,
 "nbformat_minor": 2
}
