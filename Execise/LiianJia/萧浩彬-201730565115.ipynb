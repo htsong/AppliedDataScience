{
 "cells": [
  {
   "cell_type": "code",
   "execution_count": 1,
   "metadata": {},
   "outputs": [],
   "source": [
    "def open_csv(place):\n",
    "    file=open(place,encoding='utf-8')\n",
    "    data=[]\n",
    "    for line in file.readlines():\n",
    "        if line.strip() is not '':\n",
    "            data.append(line.strip().split(','))\n",
    "    global title\n",
    "    global index\n",
    "    title=data[0]\n",
    "    index=data[1:]\n",
    "    return print('链家数据统计')"
   ]
  },
  {
   "cell_type": "code",
   "execution_count": 2,
   "metadata": {},
   "outputs": [
    {
     "name": "stdout",
     "output_type": "stream",
     "text": [
      "请输入文件地址C:\\Users\\烧饼\\Desktop\\lianjia.csv\n",
      "链家数据统计\n"
     ]
    }
   ],
   "source": [
    "def num_lists(i):\n",
    "    lists=[]\n",
    "    for term in index:\n",
    "        lists.append(float(term[i]))\n",
    "    return lists\n",
    "open_csv(input('请输入文件地址'))\n",
    "floor_list=num_lists(3)\n",
    "id_list=num_lists(5)\n",
    "price_list=num_lists(7)\n",
    "year_list=num_lists(10)\n",
    "size_list=num_lists(11)\n",
    "all_list=[floor_list,id_list,price_list,year_list,size_list]\n",
    "title_list=[]\n",
    "for i in (3,5,7,10,11):\n",
    "    a = title[i]\n",
    "    title_list.append(a)\n",
    "#C:\\Users\\烧饼\\Desktop\\lianjia.csv"
   ]
  },
  {
   "cell_type": "code",
   "execution_count": 4,
   "metadata": {},
   "outputs": [],
   "source": [
    "max_list=[]\n",
    "for term in all_list:\n",
    "    a=max(term)\n",
    "    max_list.append(a)"
   ]
  },
  {
   "cell_type": "code",
   "execution_count": 5,
   "metadata": {},
   "outputs": [],
   "source": [
    "#包含最小值的列表\n",
    "min_list=[]\n",
    "for term in all_list:\n",
    "    a=min(term)\n",
    "    min_list.append(a)\n"
   ]
  },
  {
   "cell_type": "code",
   "execution_count": 6,
   "metadata": {},
   "outputs": [],
   "source": [
    "#包含平均数的列表\n",
    "ave_list=[]\n",
    "for term in all_list:\n",
    "    a = sum(term)/len(term)\n",
    "    ave_list.append(a)"
   ]
  },
  {
   "cell_type": "code",
   "execution_count": 7,
   "metadata": {},
   "outputs": [],
   "source": [
    "#包含方差的列表\n",
    "var_list=[]\n",
    "for term in all_list:\n",
    "    total = 0\n",
    "    ave = sum(term)/len(term)\n",
    "    for num in term:\n",
    "        total += (num - ave)**2\n",
    "    a = total/len(term)\n",
    "    var_list.append(a)\n"
   ]
  },
  {
   "cell_type": "code",
   "execution_count": 8,
   "metadata": {},
   "outputs": [],
   "source": [
    "#包含众数的列表\n",
    "mode_list=[]\n",
    "for term in all_list:\n",
    "    count=dict()\n",
    "    for num in term:\n",
    "        count[num]=count.get(num,0)+1\n",
    "    a=max(count.values())\n",
    "    for key,value in count.items():\n",
    "        if (value == a):\n",
    "            k = key\n",
    "    mode_list.append(k)\n"
   ]
  },
  {
   "cell_type": "code",
   "execution_count": 9,
   "metadata": {},
   "outputs": [],
   "source": [
    "#包偏度的列表\n",
    "ske_list=[]\n",
    "for i in range(4):\n",
    "    a=((ave_list[i])**2)/(var_list[i])**(2/3)\n",
    "    ske_list.append(a)\n"
   ]
  },
  {
   "cell_type": "code",
   "execution_count": 10,
   "metadata": {},
   "outputs": [],
   "source": [
    "#包含峰度的列表\n",
    "peak_list=[]\n",
    "for i in range(4):\n",
    "    a=((ave_list[i])**4)/(var_list[i]**2)\n",
    "    peak_list.append(a)\n"
   ]
  },
  {
   "cell_type": "code",
   "execution_count": 11,
   "metadata": {},
   "outputs": [],
   "source": [
    "#定义四分数的函数\n",
    "def meddle(x):\n",
    "    x = sorted(x)\n",
    "    x_len = len(x)\n",
    "    mid, rem = divmod(x_len, 2)\n",
    "    if rem:\n",
    "        return x[:mid], x[mid+1:], x[mid]\n",
    "    else:\n",
    "        return x[:mid], x[mid:], (x[mid-1]+x[mid])/2"
   ]
  },
  {
   "cell_type": "code",
   "execution_count": 12,
   "metadata": {},
   "outputs": [],
   "source": [
    "#整包含四分数的列表\n",
    "Q1_list=[]\n",
    "Q2_list=[]\n",
    "Q3_list=[]\n",
    "for term in all_list:\n",
    "    lHalf, rHalf, q2 = meddle(term)\n",
    "    a=meddle(lHalf)[2]\n",
    "    b=q2\n",
    "    c=meddle(rHalf)[2]\n",
    "    Q1_list.append(a)\n",
    "    Q2_list.append(b)\n",
    "    Q3_list.append(c)\n"
   ]
  },
  {
   "cell_type": "code",
   "execution_count": 13,
   "metadata": {},
   "outputs": [
    {
     "name": "stdout",
     "output_type": "stream",
     "text": [
      "title： ['Floor', 'Id', 'Price', 'Size', 'Year']\n",
      "max： [57.0, 101102751457.0, 6000.0, 1019.0, 2017.0]\n",
      "min： [1.0, 101088604521.0, 60.0, 2.0, 1950.0]\n",
      "均值： [12.765088482493558, 101102362721.15808, 610.6683194661488, 99.14930100941842, 2001.3265194070195]\n",
      "方差： [58.427225667930465, 319491473850.20135, 169285.68592923088, 2599.7517937632288, 81.03250743187048]\n",
      "偏度： [10.821915761728599, 218717279237825.78, 121.86078040329045, 51.99457779021992]\n",
      "峰度： [7.777943572760942, 1.0235915084488332e+21, 4.852673646941336, 14.298644026034232]\n",
      "25%： [6.0, 101102245050.0, 365.0, 66.0, 1997.0]\n",
      "50%： [11.0, 101102507422.0, 499.0, 88.0, 2003.0]\n",
      "75%： [18.0, 101102651016.5, 717.5, 118.0, 2007.0]\n"
     ]
    }
   ],
   "source": [
    "print('title：',title_list)\n",
    "print('max：',max_list)\n",
    "print('min：',min_list)\n",
    "print('均值：',ave_list)\n",
    "print('方差：',var_list)\n",
    "print('偏度：',ske_list)\n",
    "print('峰度：',peak_list)\n",
    "print('25%：',Q1_list)\n",
    "print('50%：',Q2_list)\n",
    "print('75%：',Q3_list)"
   ]
  },
  {
   "cell_type": "code",
   "execution_count": 27,
   "metadata": {},
   "outputs": [
    {
     "name": "stdout",
     "output_type": "stream",
     "text": [
      "最热销的房型为：2室1厅，销量为9485\n",
      "户型种类一共有： 60\n",
      "{'3室1厅': 3999, '2室1厅': 9485, '1室1厅': 2681, '2室2厅': 1671, '3室2厅': 2765, '1室0厅': 499, '2室0厅': 50, '2房间2卫': 18, '3室0厅': 29, '5室2厅': 200, '4室2厅': 930, '3室3厅': 43, '3房间2卫': 53, '1房间1卫': 146, '1房间0卫': 15, '4室1厅': 295, '2房间1卫': 170, '4房间1卫': 15, '4房间2卫': 31, '3房间1卫': 116, '6室4厅': 4, '5室3厅': 75, '6室2厅': 59, '5室4厅': 4, '4室3厅': 96, '5房间2卫': 10, '3房间0卫': 3, '2房间0卫': 2, '6室3厅': 29, '7室3厅': 7, '1室2厅': 67, '7室2厅': 6, '叠拼别墅': 20, '5室1厅': 27, '4室4厅': 4, '6房间3卫': 2, '8室3厅': 4, '8室2厅': 3, '6室5厅': 1, '1室3厅': 1, '9室2厅': 1, '5房间3卫': 6, '4房间3卫': 7, '6房间4卫': 3, '11房间3卫': 1, '9室1厅': 1, '4室0厅': 3, '2室3厅': 5, '8室4厅': 1, '6室1厅': 1, '9室3厅': 1, '7房间2卫': 1, '5房间0卫': 1, '3房间3卫': 2, '8室5厅': 1, '5室0厅': 1, '6室0厅': 2, '1房间2卫': 2, '6房间5卫': 1, '7室1厅': 1}\n"
     ]
    }
   ],
   "source": [
    "def string_lists(i):\n",
    "    lists=[]\n",
    "    for term in index:\n",
    "        lists.append(str(term[i]))\n",
    "    return lists\n",
    "layout_list=string_lists(6)\n",
    "roomtype_list=[]\n",
    "counts=dict()\n",
    "for roomtype in layout_list:\n",
    "    counts[roomtype]=counts.get(roomtype,0)+1\n",
    "    a=max(counts.values())\n",
    "    for key,value in counts.items():\n",
    "        if (value == a):\n",
    "            k2 = key\n",
    "#户型相关的问题\n",
    "print('最热销的房型为：{}，销量为{}'.format(k2,a))\n",
    "print('户型种类一共有：',len(counts))\n",
    "print(counts)"
   ]
  },
  {
   "cell_type": "code",
   "execution_count": 33,
   "metadata": {},
   "outputs": [
    {
     "name": "stdout",
     "output_type": "stream",
     "text": [
      "每平方米均价为：6.643967897040734元\n"
     ]
    }
   ],
   "source": [
    "#每平方米均价\n",
    "m2_lists=[]\n",
    "for term in index:\n",
    "    m2_lists.append(float(term[7])/float(term[10]))\n",
    "total2=0\n",
    "for term in m2_lists:\n",
    "    total2+=term\n",
    "ave_m2=total2/len(m2_lists)\n",
    "print('每平方米均价为：{}元'.format(ave_m2))\n"
   ]
  },
  {
   "cell_type": "code",
   "execution_count": null,
   "metadata": {},
   "outputs": [],
   "source": [
    "#可视化还没研究怎么搞（破涕为笑），容我过几天在去学习"
   ]
  }
 ],
 "metadata": {
  "kernelspec": {
   "display_name": "Python 3",
   "language": "python",
   "name": "python3"
  },
  "language_info": {
   "codemirror_mode": {
    "name": "ipython",
    "version": 3
   },
   "file_extension": ".py",
   "mimetype": "text/x-python",
   "name": "python",
   "nbconvert_exporter": "python",
   "pygments_lexer": "ipython3",
   "version": "3.7.6"
  }
 },
 "nbformat": 4,
 "nbformat_minor": 4
}
