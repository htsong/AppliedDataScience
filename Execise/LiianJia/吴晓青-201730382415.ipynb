{
 "cells": [
  {
   "cell_type": "code",
   "execution_count": 5,
   "metadata": {},
   "outputs": [
    {
     "name": "stdout",
     "output_type": "stream",
     "text": [
      "['Direction', 'District', 'Elevator', 'Floor', 'Garden', 'Id', 'Layout', 'Price', 'Region', 'Renovation', 'Size', 'Year']\n"
     ]
    }
   ],
   "source": [
    "data=[]\n",
    "data_hd=[]\n",
    "data_room=[]\n",
    "\n",
    "import csv\n",
    "reader = open('C:\\\\Users\\\\ASUS\\\\Desktop\\\\lianjia.csv',encoding='utf-8')\n",
    "\n",
    "for line in reader:\n",
    "    if line.strip() != '': data.append(line.strip().split(','))\n",
    "        \n",
    "    data_hd,data_room=data[0],data[1::]\n",
    "\n",
    "print(data_hd)"
   ]
  },
  {
   "cell_type": "code",
   "execution_count": 6,
   "metadata": {},
   "outputs": [
    {
     "name": "stdout",
     "output_type": "stream",
     "text": [
      "23677\n"
     ]
    }
   ],
   "source": [
    "#做每平方米房单价的描述性统计\n",
    "idx_Size = data_hd.index('Size')\n",
    "idx_Price=data_hd.index('Price')\n",
    "idx_Year=data_hd.index('Year')\n",
    "PerPrice_lst=[float(item[idx_Price])/float(item[idx_Size]) for item in data_room]\n",
    "Year_lst=[float(item[idx_Year]) for item in data_room]\n",
    "print(len(PerPrice_lst))\n",
    "\n",
    "#求均值\n",
    "def mean(a):\n",
    "    return(sum(a)/len(a))\n",
    "\n",
    "#求方差\n",
    "def var(a):\n",
    "    b=[(i-mean(a))**2 for i in a]\n",
    "    return(sum(a)/len(a))\n",
    "\n",
    "#求0.25/0.5/0.75三个四分位数\n",
    "def median(a):\n",
    "    a = sorted(a)\n",
    "    length = len(a)\n",
    "    return (a[int((length)*0.25)]*0.75+a[int((length)*0.25)+1]*0.25), (a[int((length)*0.5)]*0.5+a[int((length)*0.5)+1]*0.5), (a[int((length)*0.75)]*0.25+a[int((length)*0.75)+1]*0.75)\n",
    "\n",
    "#求众数\n",
    "def zongshu(lst):\n",
    "    lst_set = set(lst)\n",
    "    frequency_dict={}\n",
    "    for i in lst_set: \n",
    "        frequency_dict[i]=lst.count(i)\n",
    "    max_frequency=max(frequency_dict.values())\n",
    "    mode=0\n",
    "    if max_frequency==1: \n",
    "        return 'Error'\n",
    "    for key,value in frequency_dict.items():\n",
    "        if value==max_frequency:\n",
    "            mode=key\n",
    "    return mode\n",
    "\n",
    "#求偏度和峰度\n",
    "def stat(data):\n",
    "    m=mean(data)\n",
    "    v=var(data)\n",
    "    n3=0\n",
    "    n4=0\n",
    "    for a in data:\n",
    "        n3 += a**3\n",
    "        n4 += a**4\n",
    "    n3 = n3/len(data)\n",
    "    n4 = n4/len(data)\n",
    " \n",
    "    skew =(n3 -3*m*v**2-m**3)/(v**3) # 偏度计算公式\n",
    "    kurt=n4/(v**4) # 峰度计算公式\n",
    "    return skew,kurt\n",
    "\n",
    "#print(mean(PerPrice_lst),var(PerPrice_lst),median(PerPrice_lst),zongshu(PerPrice_lst),stat(PerPrice_lst))"
   ]
  },
  {
   "cell_type": "code",
   "execution_count": 7,
   "metadata": {},
   "outputs": [
    {
     "name": "stdout",
     "output_type": "stream",
     "text": [
      "PricePerMeter^2=10.826798482440015+-0.0020900290606445503*Year\n"
     ]
    }
   ],
   "source": [
    "#数据分析问题：房子修建年份与房每平方米单价是否有正相关关系？\n",
    "def cov(b,a):\n",
    "    return sum([(a[i]-mean(a))*(b[i]-mean(b)) for i in range(len(a))])/len(a)\n",
    "def slope(b,a):\n",
    "    return cov(b,a)/var(a)\n",
    "def intercept(b,a):\n",
    "    return(mean(b)-slope(b,a)*mean(a))\n",
    "\n",
    "slope_model=str(slope(PerPrice_lst,Year_lst))\n",
    "intercept_model=str(intercept(PerPrice_lst,Year_lst))\n",
    "\n",
    "print('PricePerMeter^2={0}+{1}*Year'.format(intercept_model,slope_model))"
   ]
  },
  {
   "cell_type": "code",
   "execution_count": 18,
   "metadata": {},
   "outputs": [
    {
     "ename": "TypeError",
     "evalue": "'<' not supported between instances of 'dict_keys' and 'int'",
     "output_type": "error",
     "traceback": [
      "\u001b[1;31m---------------------------------------------------------------------------\u001b[0m",
      "\u001b[1;31mTypeError\u001b[0m                                 Traceback (most recent call last)",
      "\u001b[1;32m<ipython-input-18-0aed426306d2>\u001b[0m in \u001b[0;36m<module>\u001b[1;34m\u001b[0m\n\u001b[0;32m     12\u001b[0m     \u001b[0mprint\u001b[0m\u001b[1;33m(\u001b[0m\u001b[0mmax\u001b[0m\u001b[1;33m(\u001b[0m\u001b[0mfrequency_dict\u001b[0m\u001b[1;33m.\u001b[0m\u001b[0mkeys\u001b[0m\u001b[1;33m(\u001b[0m\u001b[1;33m)\u001b[0m\u001b[1;33m)\u001b[0m\u001b[1;33m)\u001b[0m\u001b[1;33m\u001b[0m\u001b[1;33m\u001b[0m\u001b[0m\n\u001b[0;32m     13\u001b[0m \u001b[1;33m\u001b[0m\u001b[0m\n\u001b[1;32m---> 14\u001b[1;33m \u001b[0mzhifangtu\u001b[0m\u001b[1;33m(\u001b[0m\u001b[0mPerPrice_lst\u001b[0m\u001b[1;33m)\u001b[0m\u001b[1;33m\u001b[0m\u001b[1;33m\u001b[0m\u001b[0m\n\u001b[0m",
      "\u001b[1;32m<ipython-input-18-0aed426306d2>\u001b[0m in \u001b[0;36mzhifangtu\u001b[1;34m(lst)\u001b[0m\n\u001b[0;32m      5\u001b[0m     \u001b[1;32mfor\u001b[0m \u001b[0mi\u001b[0m \u001b[1;32min\u001b[0m \u001b[0mlst_set\u001b[0m\u001b[1;33m:\u001b[0m\u001b[1;33m\u001b[0m\u001b[1;33m\u001b[0m\u001b[0m\n\u001b[0;32m      6\u001b[0m         \u001b[0mfrequency_dict\u001b[0m\u001b[1;33m[\u001b[0m\u001b[0mi\u001b[0m\u001b[1;33m]\u001b[0m\u001b[1;33m=\u001b[0m\u001b[0mlst\u001b[0m\u001b[1;33m.\u001b[0m\u001b[0mcount\u001b[0m\u001b[1;33m(\u001b[0m\u001b[0mi\u001b[0m\u001b[1;33m)\u001b[0m\u001b[1;33m\u001b[0m\u001b[1;33m\u001b[0m\u001b[0m\n\u001b[1;32m----> 7\u001b[1;33m     \u001b[1;32mif\u001b[0m \u001b[0mfrequency_dict\u001b[0m\u001b[1;33m.\u001b[0m\u001b[0mkeys\u001b[0m\u001b[1;33m(\u001b[0m\u001b[1;33m)\u001b[0m \u001b[1;33m<\u001b[0m \u001b[1;36m2\u001b[0m\u001b[1;33m:\u001b[0m \u001b[0ma02\u001b[0m\u001b[1;33m=\u001b[0m\u001b[0msum\u001b[0m\u001b[1;33m(\u001b[0m\u001b[0mlist\u001b[0m\u001b[1;33m(\u001b[0m\u001b[0mfrequency_dict\u001b[0m\u001b[1;33m.\u001b[0m\u001b[0mvalues\u001b[0m\u001b[1;33m(\u001b[0m\u001b[1;33m)\u001b[0m\u001b[1;33m)\u001b[0m\u001b[1;33m)\u001b[0m\u001b[1;33m\u001b[0m\u001b[1;33m\u001b[0m\u001b[0m\n\u001b[0m\u001b[0;32m      8\u001b[0m     \u001b[1;32mif\u001b[0m \u001b[0mfrequency_dict\u001b[0m\u001b[1;33m.\u001b[0m\u001b[0mkeys\u001b[0m\u001b[1;33m(\u001b[0m\u001b[1;33m)\u001b[0m \u001b[1;33m<\u001b[0m \u001b[1;36m4\u001b[0m\u001b[1;33m:\u001b[0m \u001b[0ma24\u001b[0m\u001b[1;33m=\u001b[0m\u001b[0msum\u001b[0m\u001b[1;33m(\u001b[0m\u001b[0mlist\u001b[0m\u001b[1;33m(\u001b[0m\u001b[0mfrequency_dict\u001b[0m\u001b[1;33m.\u001b[0m\u001b[0mvalues\u001b[0m\u001b[1;33m(\u001b[0m\u001b[1;33m)\u001b[0m\u001b[1;33m)\u001b[0m\u001b[1;33m)\u001b[0m\u001b[1;33m\u001b[0m\u001b[1;33m\u001b[0m\u001b[0m\n\u001b[0;32m      9\u001b[0m     \u001b[1;32mif\u001b[0m \u001b[0mfrequency_dict\u001b[0m\u001b[1;33m.\u001b[0m\u001b[0mkeys\u001b[0m\u001b[1;33m(\u001b[0m\u001b[1;33m)\u001b[0m \u001b[1;33m<\u001b[0m \u001b[1;36m6\u001b[0m\u001b[1;33m:\u001b[0m \u001b[0ma46\u001b[0m\u001b[1;33m=\u001b[0m\u001b[0msum\u001b[0m\u001b[1;33m(\u001b[0m\u001b[0mlist\u001b[0m\u001b[1;33m(\u001b[0m\u001b[0mfrequency_dict\u001b[0m\u001b[1;33m.\u001b[0m\u001b[0mvalues\u001b[0m\u001b[1;33m(\u001b[0m\u001b[1;33m)\u001b[0m\u001b[1;33m)\u001b[0m\u001b[1;33m)\u001b[0m\u001b[1;33m\u001b[0m\u001b[1;33m\u001b[0m\u001b[0m\n",
      "\u001b[1;31mTypeError\u001b[0m: '<' not supported between instances of 'dict_keys' and 'int'"
     ]
    }
   ],
   "source": []
  },
  {
   "cell_type": "code",
   "execution_count": null,
   "metadata": {},
   "outputs": [],
   "source": []
  }
 ],
 "metadata": {
  "kernelspec": {
   "display_name": "Python 3",
   "language": "python",
   "name": "python3"
  },
  "language_info": {
   "codemirror_mode": {
    "name": "ipython",
    "version": 3
   },
   "file_extension": ".py",
   "mimetype": "text/x-python",
   "name": "python",
   "nbconvert_exporter": "python",
   "pygments_lexer": "ipython3",
   "version": "3.7.1"
  }
 },
 "nbformat": 4,
 "nbformat_minor": 2
}
