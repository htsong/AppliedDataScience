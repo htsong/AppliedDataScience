{
 "cells": [
  {
   "cell_type": "code",
   "execution_count": 1,
   "metadata": {},
   "outputs": [],
   "source": [
    "fname=\"lianjia.csv\"\n",
    "fhand=open(fname,encoding='UTF-8')\n",
    "room_data=list()\n",
    "for line in fhand:\n",
    "    if line.strip()!=\"\":\n",
    "        room_data.append(line.strip().split(','))"
   ]
  },
  {
   "cell_type": "code",
   "execution_count": 2,
   "metadata": {},
   "outputs": [],
   "source": [
    "room_header=room_data[0]\n",
    "room_data1=room_data[1:]"
   ]
  },
  {
   "cell_type": "code",
   "execution_count": 3,
   "metadata": {},
   "outputs": [
    {
     "name": "stderr",
     "output_type": "stream",
     "text": [
      "IOPub data rate exceeded.\n",
      "The notebook server will temporarily stop sending output\n",
      "to the client in order to avoid crashing it.\n",
      "To change this limit, set the config variable\n",
      "`--NotebookApp.iopub_data_rate_limit`.\n",
      "\n",
      "Current values:\n",
      "NotebookApp.iopub_data_rate_limit=1000000.0 (bytes/sec)\n",
      "NotebookApp.rate_limit_window=3.0 (secs)\n",
      "\n"
     ]
    }
   ],
   "source": [
    "print(room_header)\n",
    "print(room_data1)"
   ]
  },
  {
   "cell_type": "code",
   "execution_count": 6,
   "metadata": {},
   "outputs": [
    {
     "name": "stdout",
     "output_type": "stream",
     "text": [
      "max:1019.0,min:2.0,avg:99.14930100941842\n"
     ]
    }
   ],
   "source": [
    "#求面积数据的最大值，最小值，平均值\n",
    "idx_size=room_header.index('Size')\n",
    "size_list=list()\n",
    "for i in room_data1:\n",
    "    size_list.append(float(i[idx_size]))\n",
    "print(\"max:{},min:{},avg:{}\".format(max(size_list),min(size_list),sum(size_list)/len(size_list)))"
   ]
  },
  {
   "cell_type": "code",
   "execution_count": 7,
   "metadata": {},
   "outputs": [
    {
     "name": "stdout",
     "output_type": "stream",
     "text": [
      "面积的众数与出现次数为:(89.0, 476)\n"
     ]
    }
   ],
   "source": [
    "#求面积数据的众数\n",
    "counts_size=dict()\n",
    "for size in size_list:\n",
    "    counts_size[size]=counts_size.get(size,0)+1\n",
    "size_order=sorted(counts_size.items(),key=lambda item:item[1],reverse=True)\n",
    "print(\"面积的众数与出现次数为:{}\".format(size_order[0]))"
   ]
  },
  {
   "cell_type": "code",
   "execution_count": 4,
   "metadata": {},
   "outputs": [
    {
     "name": "stdout",
     "output_type": "stream",
     "text": [
      "二手房的搭配方式及其数量（由多到少）：[('2室1厅', 9485), ('3室1厅', 3999), ('3室2厅', 2765), ('1室1厅', 2681), ('2室2厅', 1671), ('4室2厅', 930), ('1室0厅', 499), ('4室1厅', 295), ('5室2厅', 200), ('2房间1卫', 170), ('1房间1卫', 146), ('3房间1卫', 116), ('4室3厅', 96), ('5室3厅', 75), ('1室2厅', 67), ('6室2厅', 59), ('3房间2卫', 53), ('2室0厅', 50), ('3室3厅', 43), ('4房间2卫', 31), ('3室0厅', 29), ('6室3厅', 29), ('5室1厅', 27), ('叠拼别墅', 20), ('2房间2卫', 18), ('1房间0卫', 15), ('4房间1卫', 15), ('5房间2卫', 10), ('7室3厅', 7), ('4房间3卫', 7), ('7室2厅', 6), ('5房间3卫', 6), ('2室3厅', 5), ('6室4厅', 4), ('5室4厅', 4), ('4室4厅', 4), ('8室3厅', 4), ('3房间0卫', 3), ('8室2厅', 3), ('6房间4卫', 3), ('4室0厅', 3), ('2房间0卫', 2), ('6房间3卫', 2), ('3房间3卫', 2), ('6室0厅', 2), ('1房间2卫', 2), ('6室5厅', 1), ('1室3厅', 1), ('9室2厅', 1), ('11房间3卫', 1), ('9室1厅', 1), ('8室4厅', 1), ('6室1厅', 1), ('9室3厅', 1), ('7房间2卫', 1), ('5房间0卫', 1), ('8室5厅', 1), ('5室0厅', 1), ('6房间5卫', 1), ('7室1厅', 1)]\n"
     ]
    }
   ],
   "source": [
    "#二手房的布局方式以及数量\n",
    "idx_layout=room_header.index('Layout')\n",
    "layout_list=list()\n",
    "for i in room_data1:\n",
    "    layout_list.append(i[idx_layout])\n",
    "\n",
    "counts_layout=dict()\n",
    "for layout in layout_list:\n",
    "    counts_layout[layout]=counts_layout.get(layout,0)+1\n",
    "layout_order=sorted(counts_layout.items(),key=lambda item:item[1],reverse=True)\n",
    "print(\"二手房的搭配方式及其数量（由多到少）：{}\".format(layout_order))"
   ]
  },
  {
   "cell_type": "code",
   "execution_count": 5,
   "metadata": {},
   "outputs": [],
   "source": [
    "#异常点的出现可能是数据的单位不统一。例如：部分房子面积不到10平米价超10000万，Size可能并不是指面积，而是指层数。\n",
    "#问题2的可视化实在没写出来qwq...."
   ]
  }
 ],
 "metadata": {
  "kernelspec": {
   "display_name": "Python 3",
   "language": "python",
   "name": "python3"
  },
  "language_info": {
   "codemirror_mode": {
    "name": "ipython",
    "version": 3
   },
   "file_extension": ".py",
   "mimetype": "text/x-python",
   "name": "python",
   "nbconvert_exporter": "python",
   "pygments_lexer": "ipython3",
   "version": "3.7.4"
  }
 },
 "nbformat": 4,
 "nbformat_minor": 2
}
