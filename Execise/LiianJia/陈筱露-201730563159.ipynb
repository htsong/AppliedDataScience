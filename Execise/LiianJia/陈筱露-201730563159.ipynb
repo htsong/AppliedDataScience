{
 "cells": [
  {
   "cell_type": "code",
   "execution_count": 6,
   "metadata": {},
   "outputs": [
    {
     "name": "stdout",
     "output_type": "stream",
     "text": [
      "C:\\Users\\Administrator\\PycharmProjects\n"
     ]
    }
   ],
   "source": [
    "cd C:\\Users\\Administrator\\PycharmProjects"
   ]
  },
  {
   "cell_type": "code",
   "execution_count": 5,
   "metadata": {},
   "outputs": [],
   "source": [
    "lianjia_flnm = \"lianjia.csv\""
   ]
  },
  {
   "cell_type": "code",
   "execution_count": 11,
   "metadata": {},
   "outputs": [
    {
     "name": "stdout",
     "output_type": "stream",
     "text": [
      "链家二手房数据（前五行）\n",
      "['Direction', 'District', 'Elevator', 'Floor', 'Garden', 'Id', 'Layout', 'Price', 'Region', 'Renovation', 'Size', 'Year']\n",
      "\n",
      " [['东西', '灯市口', '', '6', '锡拉胡同21号院', '101102647043', '3室1厅', '780', '东城', '精装', '75.0', '1988'], ['南北', '东单', '无电梯', '6', '东华门大街', '101102650978', '2室1厅', '705', '东城', '精装', '60.0', '1988'], ['南西', '崇文门', '有电梯', '16', '新世界中心', '101102672743', '3室1厅', '1400', '东城', '其他', '210.0', '1996'], ['南', '崇文门', '', '7', '兴隆都市馨园', '101102577410', '1室1厅', '420', '东城', '精装', '39.0', '2004'], ['南', '陶然亭', '有电梯', '19', '中海紫御公馆', '101102574696', '2室2厅', '998', '东城', '精装', '90.0', '2010']]\n"
     ]
    }
   ],
   "source": [
    "#定义函数读取CSV文件\n",
    "def py_read_csv(file_name):\n",
    "    room_data = []\n",
    "    with open(file_name, encoding = 'UTF-8') as csvfile:\n",
    "        room_data = [line.strip().split(',') for line in csvfile.readlines() if line.strip() != '']\n",
    "        for line in csvfile.readlines():\n",
    "            if line.strip() != '':room_data.append(line.strip().split(','))\n",
    "                \n",
    "    room_header,room_data = room_data[0],room_data[1:]\n",
    "    return (room_header, room_data)\n",
    "\n",
    "#调用py_read_csv函数\n",
    "hd, dt = py_read_csv(lianjia_flnm)\n",
    "\n",
    "#二手房数据\n",
    "print(\"链家二手房数据（前五行）\")\n",
    "print(hd)\n",
    "print(\"\\n\",dt[:5])"
   ]
  },
  {
   "cell_type": "code",
   "execution_count": 20,
   "metadata": {},
   "outputs": [
    {
     "name": "stdout",
     "output_type": "stream",
     "text": [
      "Price:\n",
      "max:6000.0, min:60.0, avg:610.67， var:169285.69\n"
     ]
    }
   ],
   "source": [
    "#描述性统计分析\n",
    "\n",
    "#价格最大值，最小值，平均值和方差\n",
    "price = hd.index('Price')\n",
    "price_lst = [float(item[price]) for item in dt]\n",
    "sum1 = 0\n",
    "for i in price_lst:\n",
    "    sum1= sum1 + (i-sum(price_lst)/len(price_lst))**2\n",
    "print(\"Price:\\nmax:{}, min:{}, avg:{}， var:{}\".format(max(price_lst),min(price_lst),round(sum(price_lst)/len(price_lst),2), round(sum1/len(price_lst),2)))"
   ]
  },
  {
   "cell_type": "code",
   "execution_count": 23,
   "metadata": {},
   "outputs": [
    {
     "name": "stdout",
     "output_type": "stream",
     "text": [
      "面积的四分位数：\n",
      "66.0\n",
      "88.0\n",
      "118.0\n"
     ]
    }
   ],
   "source": [
    "#面积的四分位数\n",
    "size = hd.index('Size')\n",
    "size_lst = [float(item[size]) for item in dt]\n",
    "def median(x):\n",
    "    x = sorted(x)\n",
    "    length = len(x)\n",
    "    mid, rem = divmod(length, 2) \n",
    "    if rem:\n",
    "        return x[:mid], x[mid+1:], x[mid]\n",
    "    else:\n",
    "        return x[:mid], x[mid:], (x[mid-1]+x[mid])/2\n",
    " \n",
    "lHalf, rHalf, q2 = median(size_lst)\n",
    "print(\"面积的四分位数：\")\n",
    "print(median(lHalf)[2])\n",
    "print(q2)\n",
    "print(median(rHalf)[2])\n"
   ]
  },
  {
   "cell_type": "code",
   "execution_count": 70,
   "metadata": {},
   "outputs": [
    {
     "name": "stdout",
     "output_type": "stream",
     "text": [
      "怀柔：15 houses 0.06%\n",
      "海淀：2983 houses 12.6%\n",
      "昌平：2811 houses 11.87%\n",
      "平谷：41 houses 0.17%\n",
      "朝阳：2973 houses 12.56%\n",
      "门头沟：496 houses 2.09%\n",
      "石景山：882 houses 3.73%\n",
      "密云：12 houses 0.05%\n",
      "西城：2130 houses 9.0%\n",
      "房山：1442 houses 6.09%\n",
      "亦庄开发区：469 houses 1.98%\n",
      "东城：1533 houses 6.47%\n",
      "大兴：2115 houses 8.93%\n",
      "顺义：1221 houses 5.16%\n",
      "通州：1602 houses 6.77%\n",
      "丰台：2952 houses 12.47%\n",
      "\n",
      " 海淀  has the most houses at  2983 .\n"
     ]
    }
   ],
   "source": [
    "#各城区二手房源数量\n",
    "\n",
    "reg = hd.index('Region')\n",
    "reg_lst = [item[reg] for item in dt]\n",
    "n = len(reg_lst)\n",
    "reg_set = set(reg_lst)\n",
    "houses_max = 0\n",
    "for item in reg_set:\n",
    "    print(\"{}：{} houses {}%\".format(item,reg_lst.count(item),round(100*reg_lst.count(item)/n,2)))\n",
    "    if reg_lst.count(item) > houses_max:\n",
    "        houses_max = reg_lst.count(item)\n",
    "        reg_max = item\n",
    "print(\"\\n\",reg_max,\" has the most houses at \", houses_max,\".\")"
   ]
  },
  {
   "cell_type": "code",
   "execution_count": 80,
   "metadata": {},
   "outputs": [
    {
     "name": "stdout",
     "output_type": "stream",
     "text": [
      "Q1:哪个区的房子单价最贵？\n",
      "西城 的房子单价最贵：\n",
      "每平米 10.51 万元\n",
      "\n",
      "Q2:哪个区的房子平均年份比较新？\n",
      "平谷 的房子年份最新：\n",
      "平均建成年份为 2014 年\n"
     ]
    }
   ],
   "source": [
    "#数据分析问题\n",
    "print(\"Q1:哪个区的房子单价最贵？\")\n",
    "\n",
    "ppu_max = 0\n",
    "reg_ppu_max = \"\"\n",
    "for item in reg_set:\n",
    "    size_sum = 0\n",
    "    price_sum = 0\n",
    "    for i in range(0,n):\n",
    "        if dt[i][reg] == item:\n",
    "            size_sum = size_sum + float(dt[i][size])\n",
    "            price_sum = price_sum + float(dt[i][price])\n",
    "    ppu = round(price_sum/size_sum,2)\n",
    "    if ppu_max < ppu:\n",
    "        ppu_max = ppu\n",
    "        reg_ppu_max = item\n",
    "        \n",
    "print(reg_ppu_max,\"的房子单价最贵：\")\n",
    "print(\"每平米\",ppu_max,\"万元\")\n",
    "\n",
    "print(\"\\nQ2:哪个区的房子平均年份比较新？\")\n",
    "\n",
    "year = hd.index('Year')\n",
    "year_lst = [item[year] for item in dt]\n",
    "year_max = 0\n",
    "reg_year_max = \"\"\n",
    "for item in reg_set:\n",
    "    num = reg_lst.count(item)\n",
    "    year_sum = 0\n",
    "    for i in range(0,n):\n",
    "        if dt[i][reg] == item:\n",
    "            year_sum = year_sum + float(dt[i][year])\n",
    "    year_avg = int(year_sum/num)\n",
    "    if year_max < year_avg:\n",
    "        year_max = year_avg\n",
    "        reg_year_max = item\n",
    "print(reg_year_max,\"的房子年份最新：\")\n",
    "print(\"平均建成年份为\",year_max,\"年\")"
   ]
  }
 ],
 "metadata": {
  "kernelspec": {
   "display_name": "Python 3",
   "language": "python",
   "name": "python3"
  },
  "language_info": {
   "codemirror_mode": {
    "name": "ipython",
    "version": 3
   },
   "file_extension": ".py",
   "mimetype": "text/x-python",
   "name": "python",
   "nbconvert_exporter": "python",
   "pygments_lexer": "ipython3",
   "version": "3.7.6"
  }
 },
 "nbformat": 4,
 "nbformat_minor": 4
}
