{
 "cells": [
  {
   "cell_type": "code",
   "execution_count": 2,
   "metadata": {},
   "outputs": [
    {
     "name": "stdout",
     "output_type": "stream",
     "text": [
      "房价均值： 952.2\n",
      "房价最大值： 1780.0\n",
      "房价最小值： 319.0\n"
     ]
    }
   ],
   "source": [
    "file=open('lianjia.csv',encoding='utf-8')\n",
    "data=[]\n",
    "for line in file:\n",
    "    if line.strip() != '':\n",
    "        data.append(line.strip().split(','))\n",
    "del data[0]\n",
    "max=None\n",
    "min=None\n",
    "sum=0\n",
    "n=0\n",
    "for i in data:\n",
    "    sum+=float(i[7])\n",
    "    n+=1\n",
    "    if max==None or float(i[7])>max:\n",
    "        max=float(i[7])\n",
    "    if min==None or float(i[7])<min:\n",
    "        min=float(i[7])\n",
    "print(\"房价均值：\",sum/n)\n",
    "print(\"房价最大值：\",max)\n",
    "print(\"房价最小值：\",min)"
   ]
  },
  {
   "cell_type": "markdown",
   "metadata": {},
   "source": [
    "#描述性统计分析\n",
    "计算房子价格的均值、最大值、最小值"
   ]
  },
  {
   "cell_type": "code",
   "execution_count": 10,
   "metadata": {},
   "outputs": [],
   "source": [
    "g1=[]#单价<6\n",
    "g2=[]#6<=单价<9\n",
    "g3=[]#9<=单价<12\n",
    "g4=[]#12<=单价<15\n",
    "g5=[]#单价>=15\n",
    "for j in data:\n",
    "    u_price=float(j[7])/float(j[10])\n",
    "    j.append(uprice)\n",
    "    if u_price>=15:g5.append(j)\n",
    "    elif u_price>=12:g4.append(j)\n",
    "    elif u_price>=9:g3.append(j)\n",
    "    elif u_price>=6:g2.append(j)\n",
    "    else:g1.append(j)"
   ]
  },
  {
   "cell_type": "markdown",
   "metadata": {},
   "source": [
    "#计算房子的面积单价，并按单价进行分组：\n",
    "g1: 单价<6\n",
    "g2: 6<=单价<9\n",
    "g3: 9<=单价<12\n",
    "g4: 12<=单价<15\n",
    "g5: 单价>=15"
   ]
  },
  {
   "cell_type": "code",
   "execution_count": 18,
   "metadata": {},
   "outputs": [
    {
     "name": "stdout",
     "output_type": "stream",
     "text": [
      "   groups\n",
      "g1  | \n",
      "g2  | XXX\n",
      "g3  | XXXXXXX\n",
      "g4  | \n",
      "g5  | \n",
      "     ------------ quantity\n"
     ]
    }
   ],
   "source": [
    "def chart(names,count):\n",
    "    print((\"单价分布情况\"))\n",
    "    print(\"   groups\")\n",
    "    max1=0\n",
    "    for i in range(len(names)):\n",
    "        print(names[i],\" |\",\"X\"*int(count[i]))\n",
    "        if int(count[i])>max1:\n",
    "            max1=int(count[i])\n",
    "    print(\"    \",\"-\"*(max1+5),\"quantity\")"
   ]
  },
  {
   "cell_type": "markdown",
   "metadata": {},
   "source": [
    "#定义制作条形图(横向）的函数"
   ]
  },
  {
   "cell_type": "code",
   "execution_count": null,
   "metadata": {},
   "outputs": [],
   "source": [
    "names=[\"g1\",\"g2\",\"g3\",\"g4\",\"g5\"]\n",
    "n1,n2,n3,n4,n5=len(g1),len(g2),len(g3),len(g4),len(g5)\n",
    "c=[n1,n2,n3,n4,n5]\n",
    "chart(names,c)"
   ]
  },
  {
   "cell_type": "markdown",
   "metadata": {},
   "source": [
    "#对上述各组的数量进行可视化（用条形图显示）"
   ]
  },
  {
   "cell_type": "code",
   "execution_count": 20,
   "metadata": {},
   "outputs": [
    {
     "data": {
      "image/png": "[encoded data removed]",
      "text/plain": [
       "<Figure size 432x288 with 1 Axes>"
      ]
     },
     "metadata": {
      "needs_background": "light"
     },
     "output_type": "display_data"
    }
   ],
   "source": [
    "import matplotlib.pyplot as plt\n",
    "plt.bar(names,c)\n",
    "plt.title(\"单价分布情况\")\n",
    "plt.show()"
   ]
  },
  {
   "cell_type": "markdown",
   "metadata": {},
   "source": [
    "#调用matplotlib进行可视化\n",
    "（主要是我不知道怎么用字符串画柱状图……所以多用了这个方法，做个好看一点的图……）"
   ]
  }
 ],
 "metadata": {
  "kernelspec": {
   "display_name": "Python 3",
   "language": "python",
   "name": "python3"
  },
  "language_info": {
   "codemirror_mode": {
    "name": "ipython",
    "version": 3
   },
   "file_extension": ".py",
   "mimetype": "text/x-python",
   "name": "python",
   "nbconvert_exporter": "python",
   "pygments_lexer": "ipython3",
   "version": "3.7.6"
  }
 },
 "nbformat": 4,
 "nbformat_minor": 4
}
