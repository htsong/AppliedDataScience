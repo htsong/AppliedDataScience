{
 "cells": [
  {
   "cell_type": "markdown",
   "metadata": {},
   "source": [
    "课上内容：将数据读取、按行分类、储存"
   ]
  },
  {
   "cell_type": "code",
   "execution_count": 171,
   "metadata": {},
   "outputs": [],
   "source": [
    "filename = \"lianjia.csv\"\n",
    "filehand = open(filename,\"r\",encoding='UTF-8')"
   ]
  },
  {
   "cell_type": "code",
   "execution_count": 172,
   "metadata": {
    "scrolled": true
   },
   "outputs": [],
   "source": [
    "def py_read_csv(fhand):\n",
    "    room_data = []\n",
    "    for line in fhand:\n",
    "        if line.strip() != \"\": \n",
    "            room_data.append(line.strip().split(\",\"))\n",
    "    \n",
    "    room_header,room_data = room_data[0],room_data[1:]\n",
    "    return (room_header, room_data)"
   ]
  },
  {
   "cell_type": "code",
   "execution_count": 173,
   "metadata": {},
   "outputs": [
    {
     "name": "stdout",
     "output_type": "stream",
     "text": [
      "['Direction', 'District', 'Elevator', 'Floor', 'Garden', 'Id', 'Layout', 'Price', 'Region', 'Renovation', 'Size', 'Year']\n",
      "[['东西', '灯市口', '', '6', '锡拉胡同21号院', '101102647043', '3室1厅', '780', '东城', '精装', '75.0', '1988'], ['南北', '东单', '无电梯', '6', '东华门大街', '101102650978', '2室1厅', '705', '东城', '精装', '60.0', '1988'], ['南西', '崇文门', '有电梯', '16', '新世界中心', '101102672743', '3室1厅', '1400', '东城', '其他', '210.0', '1996'], ['南', '崇文门', '', '7', '兴隆都市馨园', '101102577410', '1室1厅', '420', '东城', '精装', '39.0', '2004'], ['南', '陶然亭', '有电梯', '19', '中海紫御公馆', '101102574696', '2室2厅', '998', '东城', '精装', '90.0', '2010']]\n"
     ]
    }
   ],
   "source": [
    "room_header1,room_data1 = py_read_csv(filehand)\n",
    "print(room_header1)\n",
    "print(room_data1[:5])"
   ]
  },
  {
   "cell_type": "markdown",
   "metadata": {},
   "source": [
    "项目一：计算楼层floor、价格price、大小size、年份year的描述性统计特征"
   ]
  },
  {
   "cell_type": "code",
   "execution_count": 174,
   "metadata": {},
   "outputs": [],
   "source": [
    "def py_description(fhand):\n",
    "    floorlist = list()\n",
    "    pricelist = list()\n",
    "    sizelist = list()\n",
    "    yearlist = list()\n",
    "    for x in fhand:\n",
    "        floor = float(x[3])\n",
    "        floorlist.append(floor)\n",
    "        price = float(x[7])\n",
    "        pricelist.append(price)\n",
    "        size = float(x[10])\n",
    "        sizelist.append(size)\n",
    "        year = float(x[11])\n",
    "        yearlist.append(year)\n",
    "        \n",
    "    return (floorlist,pricelist,sizelist,yearlist)"
   ]
  },
  {
   "cell_type": "code",
   "execution_count": 175,
   "metadata": {},
   "outputs": [],
   "source": [
    "def sum_list(listwhat):\n",
    "    sum = 0\n",
    "    for i in listwhat:\n",
    "        sum = sum + i\n",
    "    return sum"
   ]
  },
  {
   "cell_type": "code",
   "execution_count": 176,
   "metadata": {},
   "outputs": [],
   "source": [
    "def means(listwhat):\n",
    "    return sum_list(listwhat)/len(listwhat)"
   ]
  },
  {
   "cell_type": "code",
   "execution_count": 177,
   "metadata": {},
   "outputs": [
    {
     "name": "stdout",
     "output_type": "stream",
     "text": [
      "      floor price size year\n",
      "count 23677 23677 23677 23677\n",
      "max 57.0 6000.0 1019.0 2017.0\n",
      "min 1.0 60.0 2.0 1950.0\n",
      "sum 302239.0 14458793.800000004 2347558.0 47385408.0\n",
      "mean 12.765088482493558 610.6683194661488 99.14930100941842 2001.3265194070195\n"
     ]
    }
   ],
   "source": [
    "floorlist1,pricelist1,sizelist1,yearlist1 = py_description(room_data1)\n",
    "print(\"     \",\"floor\",\"price\",\"size\",\"year\")\n",
    "print(\"count\",len(floorlist1),len(pricelist1),len(sizelist1),len(yearlist1))\n",
    "print(\"max\",max(floorlist1),max(pricelist1),max(sizelist1),max(yearlist1))\n",
    "print(\"min\",min(floorlist1),min(pricelist1),min(sizelist1),min(yearlist1))\n",
    "print(\"sum\",sum_list(floorlist1),sum_list(pricelist1),sum_list(sizelist1),sum_list(yearlist1))\n",
    "print(\"mean\",means(floorlist1),means(pricelist1),means(sizelist1),means(yearlist1))"
   ]
  },
  {
   "cell_type": "markdown",
   "metadata": {},
   "source": [
    "项目二：打开lianjia.csv，并将数据的地区读取、分类、清洗、储存"
   ]
  },
  {
   "cell_type": "code",
   "execution_count": 178,
   "metadata": {
    "scrolled": true
   },
   "outputs": [],
   "source": [
    "def py_direction(fhand):\n",
    "    directlist = dict()\n",
    "    for x in fhand:\n",
    "        direction = x[0]\n",
    "        directlist[direction] = directlist.get(direction,0)+ 1\n",
    "    return (directlist)"
   ]
  },
  {
   "cell_type": "code",
   "execution_count": 348,
   "metadata": {},
   "outputs": [],
   "source": [
    "def sum_directlist(dictwhat):\n",
    "    sum_dictwhat = 0\n",
    "    for value in dictwhat.values():\n",
    "        sum_dictwhat = sum_dictwhat + value\n",
    "    return (sum_dictwhat)"
   ]
  },
  {
   "cell_type": "code",
   "execution_count": 358,
   "metadata": {},
   "outputs": [],
   "source": [
    "def check1(dictwhat):\n",
    "    dictthis =dict()\n",
    "    for (key,value) in dictwhat.items():\n",
    "        if value>50:                                                     #筛掉出现次数<=50的错误地区\n",
    "            dictthis[key] = dictthis.get(key,value)+1\n",
    "    return dictthis"
   ]
  },
  {
   "cell_type": "code",
   "execution_count": 376,
   "metadata": {
    "scrolled": false
   },
   "outputs": [
    {
     "name": "stdout",
     "output_type": "stream",
     "text": [
      "一共有 23677 个房源\n",
      "房源的地区来源共有： 79 个\n"
     ]
    }
   ],
   "source": [
    "directlist1 = py_direction(room_data1)\n",
    "print(\"一共有\",sum_directlist(directlist1),\"个房源\")\n",
    "print(\"房源的地区来源共有：\",len(directlist1),\"个\")                      #有个别数据出错，只保留出现次数>50的地区"
   ]
  },
  {
   "cell_type": "code",
   "execution_count": 378,
   "metadata": {},
   "outputs": [
    {
     "name": "stdout",
     "output_type": "stream",
     "text": [
      "一共有 23490 个房源\n",
      "房源的地区来源共有： 17 个\n",
      "{'东西': 1404, '南北': 11392, '南西': 165, '南': 2846, '东北': 678, '西': 890, '西南': 1123, '东': 935, '西北': 766, '北': 611, '东南': 1347, '东西北': 142, '东南北': 468, '南西北': 372, '西南北': 125, '东南西北': 91, '东南西': 135}\n"
     ]
    }
   ],
   "source": [
    "directlist2 = check1(directlist1)\n",
    "print(\"一共有\",sum_directlist(directlist2),\"个房源\")\n",
    "print(\"房源的地区来源共有：\",len(directlist2),\"个\")\n",
    "print(directlist2)"
   ]
  },
  {
   "cell_type": "markdown",
   "metadata": {},
   "source": [
    "项目三：计算哪个房型layout的性价比最高"
   ]
  },
  {
   "cell_type": "code",
   "execution_count": 379,
   "metadata": {},
   "outputs": [],
   "source": [
    "def add_perprice(fhand):\n",
    "    perpricelist = list()\n",
    "    for x in fhand:\n",
    "        perpricelist.append(float(x[7]) / float(x[10]))\n",
    "    return perpricelist"
   ]
  },
  {
   "cell_type": "code",
   "execution_count": 380,
   "metadata": {},
   "outputs": [],
   "source": [
    "def cheapest_layout(dictwhat):\n",
    "    layoutlist = list()\n",
    "    perpricelist = list()\n",
    "    for key,value in dictwhat.items():\n",
    "        layoutlist.append(key)\n",
    "        perpricelist.append(value)\n",
    "    cheapest = min(perpricelist)                                                 #寻找最小的perprice\n",
    "    return layoutlist[perpricelist.index(cheapest)],cheapest                     #寻找拥有最小perprice的layout"
   ]
  },
  {
   "cell_type": "code",
   "execution_count": 381,
   "metadata": {},
   "outputs": [
    {
     "name": "stdout",
     "output_type": "stream",
     "text": [
      "性价比最高的房型是：5房间0卫，单价为 1.2234042553191489 万元/平方\n"
     ]
    }
   ],
   "source": [
    "perpricelist1 = add_perprice(room_data1)\n",
    "\n",
    "j = 0\n",
    "layout_price = dict()\n",
    "layout = dict()\n",
    "for line in room_data1:\n",
    "    if line[6] in layout_price:\n",
    "        layout_price[line[6]] = layout_price[line[6]] + perpricelist1[j]        #该房型的价钱相加\n",
    "        layout[line[6]] = layout[line[6]]+1                                      #该房型的出现次数\n",
    "    else:\n",
    "        layout_price[line[6]] = perpricelist1[j]\n",
    "        layout[line[6]] = 1\n",
    "    j = j + 1\n",
    "\n",
    "layout_perprice = dict()\n",
    "for key in layout_price.keys():\n",
    "    layout_perprice[key] = layout_price[key] / layout[key]                      #该房型的总价钱除以出现次数\n",
    "\n",
    "cheaplayout,cheapprice = cheapest_layout(layout_perprice)\n",
    "print(\"性价比最高的房型是：{}，单价为 {} 万元/平方\".format(cheaplayout,cheapprice))"
   ]
  },
  {
   "cell_type": "markdown",
   "metadata": {},
   "source": [
    "项目四：尝试将项目三的layout-perprice可视化"
   ]
  },
  {
   "cell_type": "code",
   "execution_count": 382,
   "metadata": {},
   "outputs": [
    {
     "name": "stdout",
     "output_type": "stream",
     "text": [
      "60\n"
     ]
    }
   ],
   "source": [
    "print(len(layout_perprice))                                             #房型种类太多，决定筛选掉一些太少数量的房型"
   ]
  },
  {
   "cell_type": "code",
   "execution_count": 383,
   "metadata": {},
   "outputs": [],
   "source": [
    "def check2(dictwhat):\n",
    "    dictthis =dict()\n",
    "    for (key,value) in dictwhat.items():\n",
    "        if value>7:                                                     #筛掉出现次数<=7的房型\n",
    "            dictthis[key] = dictthis.get(key,value)+1\n",
    "    return dictthis"
   ]
  },
  {
   "cell_type": "code",
   "execution_count": 384,
   "metadata": {},
   "outputs": [
    {
     "name": "stdout",
     "output_type": "stream",
     "text": [
      "6\n"
     ]
    }
   ],
   "source": [
    "layout_perprice1 = check2(layout_perprice)\n",
    "print(len(layout_perprice1))                                           #与预想的可视化房型数量差不多，进行下一步操作"
   ]
  },
  {
   "cell_type": "code",
   "execution_count": 415,
   "metadata": {},
   "outputs": [
    {
     "name": "stdout",
     "output_type": "stream",
     "text": [
      "perprice\n",
      "|\n",
      "|\n",
      "|\n",
      "|\n",
      "|\n",
      "|\n",
      "|\n",
      "|\n",
      "|\n",
      "|\n",
      "|_________________________________________________ layout\n",
      "1室1厅 1室0厅 2室0厅 3室0厅 叠拼别墅 7房间2卫\n"
     ]
    }
   ],
   "source": [
    "print(\"perprice\")\n",
    "print(\"|\")\n",
    "print(\"|\")\n",
    "print(\"|\")\n",
    "print(\"|\")\n",
    "print(\"|\")\n",
    "print(\"|\")\n",
    "print(\"|\")\n",
    "print(\"|\")\n",
    "print(\"|\")\n",
    "print(\"|\")\n",
    "print(\"|_________________________________________________ layout\")\n",
    "layoutlist1 = list()\n",
    "for key in layout_perprice1.keys():\n",
    "    layoutlist1.append(key)\n",
    "print(layoutlist1[0],layoutlist1[1],layoutlist1[2],layoutlist1[3],layoutlist1[4],layoutlist1[5])\n",
    "    \n"
   ]
  },
  {
   "cell_type": "markdown",
   "metadata": {},
   "source": [
    "老师我尽力了QAQ 想到头秃还是做不出_(:o」∠)_"
   ]
  }
 ],
 "metadata": {
  "kernelspec": {
   "display_name": "Python 3",
   "language": "python",
   "name": "python3"
  },
  "language_info": {
   "codemirror_mode": {
    "name": "ipython",
    "version": 3
   },
   "file_extension": ".py",
   "mimetype": "text/x-python",
   "name": "python",
   "nbconvert_exporter": "python",
   "pygments_lexer": "ipython3",
   "version": "3.7.6"
  }
 },
 "nbformat": 4,
 "nbformat_minor": 4
}
