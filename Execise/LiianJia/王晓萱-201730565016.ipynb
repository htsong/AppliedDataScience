{
 "cells": [
  {
   "cell_type": "markdown",
   "metadata": {},
   "source": [
    "# 链家二手房数据分析实战\n",
    "\n",
    "## 文件打开与读取"
   ]
  },
  {
   "cell_type": "code",
   "execution_count": 1,
   "metadata": {},
   "outputs": [
    {
     "name": "stdout",
     "output_type": "stream",
     "text": [
      "('Direction', 'District', 'Elevator', 'Floor', 'Garden', 'Id', 'Layout', 'Price', 'Region', 'Renovation', 'Size', 'Year')\n",
      "--- 一共有 23677 条数据, 目前显示前 5 条 ---\n",
      "('东西', '灯市口', '', '6', '锡拉胡同21号院', '101102647043', '3室1厅', '780', '东城', '精装', '75.0', '1988')\n",
      "('南北', '东单', '无电梯', '6', '东华门大街', '101102650978', '2室1厅', '705', '东城', '精装', '60.0', '1988')\n",
      "('南西', '崇文门', '有电梯', '16', '新世界中心', '101102672743', '3室1厅', '1400', '东城', '其他', '210.0', '1996')\n",
      "('南', '崇文门', '', '7', '兴隆都市馨园', '101102577410', '1室1厅', '420', '东城', '精装', '39.0', '2004')\n",
      "('南', '陶然亭', '有电梯', '19', '中海紫御公馆', '101102574696', '2室2厅', '998', '东城', '精装', '90.0', '2010')\n"
     ]
    }
   ],
   "source": [
    "file_name = 'lianjia.csv'\n",
    "preview_limit = 5\n",
    "\n",
    "ctx = []\n",
    "# 用的gbk编码, 服务器用的是utf-8\n",
    "# Windows下文件用的CRLF换行, 所以界定的时候用的是`\\r\\n`\n",
    "with open(file_name, mode='r', encoding='gbk', newline='\\r\\n') as f:\n",
    "    lines = f.readlines()\n",
    "    ctx = [tuple(line.strip().split(',')) for line in lines]\n",
    "\n",
    "# 第1行是header, 后边的都是数据\n",
    "header = ctx[0]\n",
    "datas = ctx[1:]\n",
    "\n",
    "# 来个预览吧~\n",
    "print(header)\n",
    "print('--- 一共有 {} 条数据, 目前显示前 {} 条 ---'.format(len(datas), preview_limit))\n",
    "for data in datas[:5]:\n",
    "    print(data)"
   ]
  },
  {
   "cell_type": "markdown",
   "metadata": {},
   "source": [
    "## 数据处理方案\n",
    "\n",
    "这里考虑从Tuple里面获取数据，所以提前把header到index的值处理好，到时候通过这个index的值就可以取出对应的值。"
   ]
  },
  {
   "cell_type": "code",
   "execution_count": 2,
   "metadata": {},
   "outputs": [
    {
     "name": "stdout",
     "output_type": "stream",
     "text": [
      "{'Direction': 0, 'District': 1, 'Elevator': 2, 'Floor': 3, 'Garden': 4, 'Id': 5, 'Layout': 6, 'Price': 7, 'Region': 8, 'Renovation': 9, 'Size': 10, 'Year': 11}\n"
     ]
    }
   ],
   "source": [
    "# 用`header.index()`其实对性能有影响,\n",
    "# 这里直接变成`Header Field => Index`的dict来做Hash\n",
    "header_index = {}\n",
    "for index, header_name in enumerate(header):\n",
    "    header_index[header_name] = index\n",
    "\n",
    "print(header_index)"
   ]
  },
  {
   "cell_type": "markdown",
   "metadata": {},
   "source": [
    "### 聚合处理\n",
    "\n",
    "这里除了Price，具备有11个特征变量。其中，我们可以通过对一些变量进行归类，来对另外的变量进行分析。这种做法，属于聚合的做法。"
   ]
  },
  {
   "cell_type": "code",
   "execution_count": 3,
   "metadata": {},
   "outputs": [],
   "source": [
    "# 这里实现一个聚合函数 `aggregate(datas, keys, expr)`\n",
    "#   @datas  输入的数据\n",
    "#   @keys   需要聚合的Key名, 是个列表\n",
    "#   @expr   一个函数, 用来从datas单位数据里面取回想要的部分\n",
    "def aggregate(datas, keys, expr):\n",
    "    # 取回Key的所有indexes\n",
    "    key_indexes = [header_index[key] for key in keys]\n",
    "\n",
    "    # 结果存储\n",
    "    res = {}\n",
    "    # 遍历数据\n",
    "    for data in datas:\n",
    "        key = tuple([data[key_index] for key_index in key_indexes])\n",
    "        res[key] = res.get(key, []) + [expr(data)]\n",
    "        \n",
    "    return res"
   ]
  },
  {
   "cell_type": "markdown",
   "metadata": {},
   "source": [
    "之后我们来测试一下，计算一下不同地区的**单位地价**："
   ]
  },
  {
   "cell_type": "code",
   "execution_count": 88,
   "metadata": {},
   "outputs": [
    {
     "data": {
      "text/markdown": [
       "#### 北京市各地区单位地价\n",
       "\n",
       "| 地区 | 最大 | 最小 | 平均 |\n",
       "|-|-|-|-|\n",
       "| 东城 | 16.23 | 4.18 | 9.86 |\n",
       "| 丰台 | 1000.00 | 2.69 | 6.10 |\n",
       "| 亦庄开发区 | 9.38 | 2.34 | 4.70 |\n",
       "| 大兴 | 787.50 | 1.86 | 5.41 |\n",
       "| 密云 | 3.01 | 2.01 | 2.39 |\n",
       "| 平谷 | 4.21 | 2.20 | 2.75 |\n",
       "| 怀柔 | 5.21 | 2.94 | 3.93 |\n",
       "| 房山 | 220.00 | 1.32 | 3.95 |\n",
       "| 昌平 | 310.00 | 1.95 | 4.40 |\n",
       "| 朝阳 | 900.00 | 3.17 | 7.32 |\n",
       "| 海淀 | 550.00 | 3.03 | 8.85 |\n",
       "| 石景山 | 13.27 | 2.87 | 5.54 |\n",
       "| 西城 | 16.25 | 4.66 | 10.69 |\n",
       "| 通州 | 280.00 | 1.22 | 5.24 |\n",
       "| 门头沟 | 7.31 | 2.02 | 4.02 |\n",
       "| 顺义 | 290.00 | 1.73 | 4.97 |\n"
      ],
      "text/plain": [
       "<IPython.core.display.Markdown object>"
      ]
     },
     "metadata": {},
     "output_type": "display_data"
    }
   ],
   "source": [
    "from IPython.display import display, Markdown\n",
    "\n",
    "price_index = header_index['Price']\n",
    "size_index = header_index['Size']\n",
    "unit_price = lambda data: float(data[price_index]) / float(data[size_index])\n",
    "res = aggregate(datas, ['Region'], unit_price)\n",
    "\n",
    "# 来个Markdown表头\n",
    "table = '#### 北京市各地区单位地价\\n\\n'\n",
    "table = table + '| 地区 | 最大 | 最小 | 平均 |\\n'\n",
    "table = table + '|-|-|-|-|\\n'\n",
    "# 顺序输出表体\n",
    "for key in sorted(res.keys()):\n",
    "    val = res[key]\n",
    "    table = table + '| {} | {:.2f} | {:.2f} | {:.2f} |\\n'.format(','.join(key), max(val), min(val), sum(val)/len(val))\n",
    "# 显示一下\n",
    "display(Markdown(table))"
   ]
  },
  {
   "cell_type": "markdown",
   "metadata": {},
   "source": [
    "## 异常发现与呈现\n",
    "\n",
    "突然发现，上述表格单位地价的最大值，竟然有高达几百万乃至上千万的。这时不如准备画一个散点图来体现一下这些记录的异常之处：\n",
    "\n",
    "### 作图呈现\n",
    "\n",
    "这里需要画出单位地价和面积关系的散点图。先计算好左边的大致最大值，然后得到精度，即可分析："
   ]
  },
  {
   "cell_type": "code",
   "execution_count": 5,
   "metadata": {},
   "outputs": [
    {
     "data": {
      "text/plain": [
       "(6000.0, 1019.0)"
      ]
     },
     "execution_count": 5,
     "metadata": {},
     "output_type": "execute_result"
    }
   ],
   "source": [
    "max_price = max([float(data[header_index['Price']]) for data in datas])\n",
    "max_size = max([float(data[header_index['Size']]) for data in datas])\n",
    "max_price, max_size"
   ]
  },
  {
   "cell_type": "code",
   "execution_count": 64,
   "metadata": {},
   "outputs": [
    {
     "name": "stdout",
     "output_type": "stream",
     "text": [
      "    y ^\n",
      " 6000 |         |         |         |      *\n",
      "      |\n",
      " 5200 |         |         |         |         |    *\n",
      " 4800 |         |         |         |       * |         |         *       *\n",
      " 4400 *         |         |         |  *      |         |   *  *\n",
      " 4000 *         |         |       * **   ***  |         *     *   |         |         |   *\n",
      " 3600 |         |         |     * *** * **    |         *\n",
      " 3200 |         |         | **** * ** **  **  |  *      |      *\n",
      " 2800 *         |        **************    * *|* **   * |         |    *    |         |    *\n",
      " 2400 *         |    *****************   * ** **    *   ** ***    |         *\n",
      " 2000 *         |  ****************** ** ****** * **   *|  **   *\n",
      " 1600 |         ********************************  ** *  |      *  |         |         |         |         |*\n",
      " 1200 *      ***************************** ** *    **  **\n",
      "  800 *    ************************************\n",
      "  400 * ****************************|  *\n",
      "    0 |*******************\n",
      "      |0        |100      |200      |300      |400      |500      |600      |700      |800      |900      |1000 ->x\n"
     ]
    }
   ],
   "source": [
    "# x/y轴精确度\n",
    "accu_y = 400\n",
    "accu_x = 10\n",
    "# 每多少个x的点, 打一个刻度\n",
    "label_per_x = 10\n",
    "\n",
    "label_char = '|'     # 标签的字符\n",
    "point_char = '*'     # 打点的字符\n",
    "non_point_char = ' ' # 不是打点的字符\n",
    "\n",
    "# 记录点, `y => x`\n",
    "points = {}\n",
    "for data in datas:\n",
    "    size = float(data[header_index['Size']])\n",
    "    price = float(data[header_index['Price']])\n",
    "    # 算出点\n",
    "    x = int(size / accu_x)\n",
    "    y = int(price / accu_y)\n",
    "    # 用set来去重\n",
    "    points[y] = set(list(points.get(y, set([]))) + [x])\n",
    "\n",
    "def my_plot(points, max_x):\n",
    "    # 输出顶上的坐标\n",
    "    print('{:>5s} ^'.format('y'))\n",
    "\n",
    "    # y轴, 从上往下输出, 倒序\n",
    "    y_has_point = sorted(points.keys(), reverse=True)\n",
    "    # 当前y轴的位置\n",
    "    cursor_y = y_has_point[0]\n",
    "    # 以此展开\n",
    "    for y in y_has_point:\n",
    "        # 当前y轴坐标还没有到目标行就继续换行\n",
    "        while cursor_y != y:\n",
    "            print('{:>5s} |'.format(''))\n",
    "            cursor_y = cursor_y - 1\n",
    "\n",
    "        # 输出刻度\n",
    "        print('{:>5d} '.format(y * accu_y), end='')\n",
    "        # 0开始的x轴坐标, 作为当前坐标\n",
    "        cursor_x = 0\n",
    "        this_line = ''\n",
    "\n",
    "        x_has_point = sorted(points[y])\n",
    "        for x in x_has_point:\n",
    "            # 没到当前坐标就继续用空格填充\n",
    "            while cursor_x != x:\n",
    "                # 加上一个刻度尺 or 空格\n",
    "                empty_char = label_char \\\n",
    "                    if cursor_x % label_per_x == 0 \\\n",
    "                    else non_point_char\n",
    "                # 输出, 坐标++\n",
    "                this_line = this_line + empty_char\n",
    "                cursor_x = cursor_x + 1\n",
    "\n",
    "            # 到达位置了, 输出约定的mark, 坐标++\n",
    "            this_line = this_line + point_char\n",
    "            cursor_x = cursor_x + 1\n",
    "\n",
    "        # 可以输出了, y轴坐标下去吧\n",
    "        print(this_line)\n",
    "        cursor_y = cursor_y - 1\n",
    "\n",
    "        \n",
    "    while cursor_y >= 0:\n",
    "        print('{:>5s} |'.format(''))\n",
    "        cursor_y = cursor_y - 1\n",
    "    # 对齐\n",
    "    print('{:>5s} '.format(''), end='')\n",
    "    cursor_x = 0\n",
    "    # 输出x轴刻度\n",
    "    while cursor_x * accu_x < int(max_x):\n",
    "        while cursor_x % label_per_x != 0:\n",
    "            print(' ', end='')\n",
    "            cursor_x = cursor_x + 1\n",
    "        label_str = '{}{}'.format(label_char, cursor_x * accu_x)\n",
    "        print(label_str, end='')\n",
    "        cursor_x = cursor_x + len(label_str)\n",
    "    print(' ->x')\n",
    "    \n",
    "my_plot(points, max_size)"
   ]
  },
  {
   "cell_type": "markdown",
   "metadata": {},
   "source": [
    "### 选取奇怪的数据并输出\n",
    "\n",
    "如图，发现面积在10以内的和1000以上的均有单位地价异常的情况。使用函数进行匹配，选取并打印出来："
   ]
  },
  {
   "cell_type": "code",
   "execution_count": 11,
   "metadata": {},
   "outputs": [
    {
     "name": "stdout",
     "output_type": "stream",
     "text": [
      "--- 面积小于10, 价格过高 ---\n",
      "('240.97平米', '长阳', '毛坯', '5', '世茂维拉', '101102253577', '叠拼别墅', '1080', '房山', '南北', '5.0', '2015')\n",
      "('242.78平米', '长阳', '毛坯', '5', '世茂维拉', '101102217569', '叠拼别墅', '1100', '房山', '南北', '5.0', '2015')\n",
      "('242.96平米', '长阳', '精装', '5', '世茂维拉', '101101911559', '叠拼别墅', '980', '房山', '南北', '5.0', '2015')\n",
      "('295.88平米', '顺义其它', '精装', '4', '龙湖好望山', '101102431983', '叠拼别墅', '1000', '顺义', '南北', '4.0', '2014')\n",
      "('295.01平米', '顺义其它', '精装', '4', '鹭峯国际', '101102300614', '叠拼别墅', '1450', '顺义', '南北', '5.0', '2014')\n",
      "('292.31平米', '顺义其它', '毛坯', '3', '龙湖好望山', '101102013095', '叠拼别墅', '860', '顺义', '南北', '4.0', '2014')\n",
      "('294.42平米', '顺义其它', '精装', '5', '龙湖好望山', '101101141445', '叠拼别墅', '980', '顺义', '南北', '6.0', '2013')\n",
      "('427.5平米', '西红门', '精装', '3', '鸿坤林语墅', '101102023530', '叠拼别墅', '3150', '大兴', '南北', '4.0', '2015')\n",
      "('361.8平米', '西红门', '精装', '4', '鸿坤林语墅', '101102460862', '叠拼别墅', '2380', '大兴', '南北', '4.0', '2015')\n",
      "('386.83平米', '西红门', '精装', '3', '鸿坤林语墅', '101102411099', '叠拼别墅', '2700', '大兴', '南北', '5.0', '2015')\n",
      "('107.93平米', '回龙观', '简装', '4', '龙城花园N区', '101101993058', '叠拼别墅', '620', '昌平', '南北', '2.0', '1997')\n",
      "('195.32平米', '通州其它', '毛坯', '6', '旭辉御锦', '101102638903', '叠拼别墅', '780', '通州', '南北', '5.0', '2014')\n",
      "('259.87平米', '通州其它', '精装', '6', '旭辉御锦', '101101801342', '叠拼别墅', '1120', '通州', '南北', '4.0', '2014')\n",
      "('259.76平米', '通州其它', '毛坯', '6', '旭辉御锦', '101102046256', '叠拼别墅', '1050', '通州', '南北', '4.0', '2014')\n",
      "('260.07平米', '通州其它', '精装', '6', '旭辉御锦', '101102490792', '叠拼别墅', '1050', '通州', '南北', '4.0', '2014')\n",
      "('264.6平米', '通州其它', '毛坯', '6', '旭辉御锦', '101102440907', '叠拼别墅', '1100', '通州', '南北', '4.0', '2014')\n",
      "('335.51平米', '丽泽', '毛坯', '6', '西宸原著', '101102306757', '叠拼别墅', '4000', '丰台', '南北', '4.0', '2016')\n",
      "('266.61平米', '西山', '精装', '3', '中间建筑一区', '101101869900', '叠拼别墅', '1350', '海淀', '南北', '8.0', '2007')\n",
      "('203.73平米', '西山', '简装', '4', '西山美墅馆F区', '101102520575', '叠拼别墅', '2200', '海淀', '南北', '4.0', '2004')\n",
      "('523.4平米', '大望路', '精装', '5', '首府官邸', '101102432328', '叠拼别墅', '4500', '朝阳', '南北', '5.0', '2007')\n",
      "\n",
      "--- 面积大于1000, 价格偏低 ---\n",
      "('南', '通州其它', '有电梯', '8', '新华联科技大厦', '101102019411', '1房间0卫', '1700', '通州', '简装', '1019.0', '2009')\n",
      "\n"
     ]
    }
   ],
   "source": [
    "not_expected = {\n",
    "    '面积小于10, 价格过高': lambda data: float(data[size_index]) < 10,\n",
    "    '面积大于1000, 价格偏低': lambda data: float(data[size_index]) > 1000,\n",
    "}\n",
    "\n",
    "for reason in not_expected:\n",
    "    selector = not_expected[reason]\n",
    "    print('--- {} ---'.format(reason))\n",
    "    for data in datas:\n",
    "        if selector(data):\n",
    "            print(data)\n",
    "    print()"
   ]
  },
  {
   "cell_type": "markdown",
   "metadata": {},
   "source": [
    "### 筛除异常数据\n",
    "\n",
    "经过排查处理，发现地价异常的部分均为字段不匹配，导致结果计算异常。现在进行筛除："
   ]
  },
  {
   "cell_type": "code",
   "execution_count": 90,
   "metadata": {},
   "outputs": [
    {
     "name": "stdout",
     "output_type": "stream",
     "text": [
      "--- 有效记录 23657 条 ---\n"
     ]
    }
   ],
   "source": [
    "correct_datas = []\n",
    "for data in datas:\n",
    "    if float(data[size_index]) >= 10:\n",
    "        correct_datas.append(data)\n",
    "        \n",
    "print('--- 有效记录 {} 条 ---'.format(len(correct_datas)))"
   ]
  },
  {
   "cell_type": "markdown",
   "metadata": {},
   "source": [
    "## 各变量性质统计\n",
    "\n",
    "### 类型判断\n",
    "\n",
    "先进行变量类型的猜测，检查是否为数字类型："
   ]
  },
  {
   "cell_type": "code",
   "execution_count": 110,
   "metadata": {},
   "outputs": [
    {
     "name": "stdout",
     "output_type": "stream",
     "text": [
      "字段 Direction 为 字符 类型\n",
      "字段 District 为 字符 类型\n",
      "字段 Elevator 为 字符 类型\n",
      "字段 Floor 为 数字 类型\n",
      "字段 Garden 为 字符 类型\n",
      "字段 Id 为 数字 类型\n",
      "字段 Layout 为 字符 类型\n",
      "字段 Price 为 数字 类型\n",
      "字段 Region 为 字符 类型\n",
      "字段 Renovation 为 字符 类型\n",
      "字段 Size 为 数字 类型\n",
      "字段 Year 为 数字 类型\n"
     ]
    }
   ],
   "source": [
    "numeric_headers = {}\n",
    "for header_name in header_index:\n",
    "    index = header_index[header_name]\n",
    "    value = correct_datas[0][index]\n",
    "    try:\n",
    "        float(value)\n",
    "    except ValueError:\n",
    "        print('字段 {} 为 字符 类型'.format(header_name))\n",
    "    else:\n",
    "        print('字段 {} 为 数字 类型'.format(header_name))\n",
    "        numeric_headers[header_name] = index"
   ]
  },
  {
   "cell_type": "markdown",
   "metadata": {},
   "source": [
    "### 缺失统计\n",
    "\n",
    "然后检查一下各个字段的覆盖情况，可以看到字段Elevator存在空的数据："
   ]
  },
  {
   "cell_type": "code",
   "execution_count": 107,
   "metadata": {},
   "outputs": [
    {
     "name": "stdout",
     "output_type": "stream",
     "text": [
      "总数目: 23657\n"
     ]
    }
   ],
   "source": [
    "cnt = len(correct_datas)\n",
    "print('总数目: {}'.format(cnt))"
   ]
  },
  {
   "cell_type": "code",
   "execution_count": 108,
   "metadata": {},
   "outputs": [
    {
     "name": "stdout",
     "output_type": "stream",
     "text": [
      "字段 Direction 有 23657 个非空数据\n",
      "字段 District 有 23657 个非空数据\n",
      "字段 Elevator 有 15420 个非空数据\n",
      "字段 Floor 有 23657 个非空数据\n",
      "字段 Garden 有 23657 个非空数据\n",
      "字段 Id 有 23657 个非空数据\n",
      "字段 Layout 有 23657 个非空数据\n",
      "字段 Price 有 23657 个非空数据\n",
      "字段 Region 有 23657 个非空数据\n",
      "字段 Renovation 有 23657 个非空数据\n",
      "字段 Size 有 23657 个非空数据\n",
      "字段 Year 有 23657 个非空数据\n"
     ]
    }
   ],
   "source": [
    "for header_name in header_index:\n",
    "    index = header_index[header_name]\n",
    "    cnt = 0\n",
    "    for data in correct_datas:\n",
    "        if data[index] != '':\n",
    "            cnt = cnt + 1\n",
    "    \n",
    "    print('字段 {} 有 {} 个非空数据'.format(header_name, cnt))"
   ]
  },
  {
   "cell_type": "markdown",
   "metadata": {},
   "source": [
    "### 数值特征的描述性统计\n",
    "\n",
    "上述过程已经对数据的类型进行了验证，接下来就开始对各个数值进行描述性统计。首先需要先定义一些函数来计算需要的数："
   ]
  },
  {
   "cell_type": "code",
   "execution_count": 123,
   "metadata": {},
   "outputs": [],
   "source": [
    "import math\n",
    "\n",
    "def percentile(datas, percentage):\n",
    "    intervals = len(datas) - 1\n",
    "    if intervals < 0:\n",
    "        raise ValueError('不能算空数组的分位数')\n",
    "    elif intervals == 0:\n",
    "        return datas[0]\n",
    "    \n",
    "    datas = sorted(datas)\n",
    "    order_full = percentage / 100 * intervals\n",
    "    order_a = int(order_full)\n",
    "    order_b = order_full - order_a\n",
    "    \n",
    "    item_a, item_b = datas[order_a], datas[order_a + 1]\n",
    "    return item_a + (item_b - item_a) * order_b\n",
    "\n",
    "\n",
    "def mean(datas):\n",
    "    length = len(datas)\n",
    "    if length <= 0:\n",
    "        raise ValueError('不能算空数组的平均数')\n",
    "    return sum(datas)/length\n",
    "\n",
    "\n",
    "def std(datas):\n",
    "    avg, n = mean(datas), len(datas)\n",
    "    s2 = sum([(i - avg) * (i - avg) for i in datas])/n\n",
    "    return math.sqrt(s2)"
   ]
  },
  {
   "cell_type": "markdown",
   "metadata": {},
   "source": [
    "随后就可以进行字段的分析了："
   ]
  },
  {
   "cell_type": "code",
   "execution_count": 136,
   "metadata": {},
   "outputs": [
    {
     "data": {
      "text/markdown": [
       "|字段|最大值|最小值|平均值|标准差|25分位|50分位|75分位|\n",
       "|-|-|-|-|-|-|-|-|\n",
       "|Floor|57.0|1.0|12.771949105972862|7.643288662690796|6.0|11.0|18.0|\n",
       "|Id|101102751457.0|101088604521.0|101102362871.14635|565365.7596725009|101102245251.0|101102507671.0|101102651105.0|\n",
       "|Price|6000.0|60.0|609.7706302574293|409.2374329336111|365.0|499.0|715.0|\n",
       "|Size|1019.0|15.0|99.22927674684026|50.93502297240587|66.0|88.0|118.0|\n",
       "|Year|2017.0|1950.0|2001.3172422538782|8.99891756061471|1997.0|2003.0|2007.0|\n"
      ],
      "text/plain": [
       "<IPython.core.display.Markdown object>"
      ]
     },
     "metadata": {},
     "output_type": "display_data"
    }
   ],
   "source": [
    "from IPython.display import display, Markdown\n",
    "\n",
    "\n",
    "operations = {\n",
    "    '最大值': max,\n",
    "    '最小值': min,\n",
    "    '平均值': mean,\n",
    "    '标准差': std,\n",
    "    '25分位': lambda datas: percentile(datas, 25),\n",
    "    '50分位': lambda datas: percentile(datas, 50),\n",
    "    '75分位': lambda datas: percentile(datas, 75),\n",
    "}\n",
    "\n",
    "table = '|' + '|'.join(['字段'] + list(operations.keys())) +'|\\n'\n",
    "table = table + '|' + '|'.join(['-' for i in range(len(operations)+1)]) + '|\\n'\n",
    "\n",
    "for header_name in numeric_headers:\n",
    "    index = numeric_headers[header_name]\n",
    "    values = [float(data[index]) for data in correct_datas]\n",
    "    line = [header_name]\n",
    "    for op in operations.values():\n",
    "        line.append(op(values))\n",
    "    table = table + '|' + '|'.join([str(item) for item in line]) + '|\\n'\n",
    "\n",
    "display(Markdown(table))"
   ]
  },
  {
   "cell_type": "markdown",
   "metadata": {},
   "source": [
    "## 地区与地价的关系"
   ]
  },
  {
   "cell_type": "code",
   "execution_count": 91,
   "metadata": {},
   "outputs": [
    {
     "data": {
      "text/markdown": [
       "#### 北京市各地区单位地价\n",
       "\n",
       "| 地区 | 最大 | 最小 | 平均 |\n",
       "|-|-|-|-|\n",
       "| 东城 | 16.23 | 4.18 | 9.86 |\n",
       "| 丰台 | 15.00 | 2.69 | 5.76 |\n",
       "| 亦庄开发区 | 9.38 | 2.34 | 4.70 |\n",
       "| 大兴 | 9.15 | 1.86 | 4.51 |\n",
       "| 密云 | 3.01 | 2.01 | 2.39 |\n",
       "| 平谷 | 4.21 | 2.20 | 2.75 |\n",
       "| 怀柔 | 5.21 | 2.94 | 3.93 |\n",
       "| 房山 | 7.47 | 1.32 | 3.52 |\n",
       "| 昌平 | 9.47 | 1.95 | 4.29 |\n",
       "| 朝阳 | 16.02 | 3.17 | 7.02 |\n",
       "| 海淀 | 16.01 | 3.03 | 8.61 |\n",
       "| 石景山 | 13.27 | 2.87 | 5.54 |\n",
       "| 西城 | 16.25 | 4.66 | 10.69 |\n",
       "| 通州 | 10.49 | 1.22 | 4.48 |\n",
       "| 门头沟 | 7.31 | 2.02 | 4.02 |\n",
       "| 顺义 | 11.76 | 1.73 | 4.24 |\n"
      ],
      "text/plain": [
       "<IPython.core.display.Markdown object>"
      ]
     },
     "metadata": {},
     "output_type": "display_data"
    }
   ],
   "source": [
    "from IPython.display import display, Markdown\n",
    "\n",
    "price_index = header_index['Price']\n",
    "size_index = header_index['Size']\n",
    "unit_price = lambda data: float(data[price_index]) / float(data[size_index])\n",
    "res = aggregate(correct_datas, ['Region'], unit_price)\n",
    "\n",
    "# 来个Markdown表头\n",
    "table = '#### 北京市各地区单位地价\\n\\n'\n",
    "table = table + '| 地区 | 最大 | 最小 | 平均 |\\n'\n",
    "table = table + '|-|-|-|-|\\n'\n",
    "# 顺序输出表体\n",
    "for key in sorted(res.keys()):\n",
    "    val = res[key]\n",
    "    table = table + '| {} | {:.2f} | {:.2f} | {:.2f} |\\n'.format(','.join(key), max(val), min(val), sum(val)/len(val))\n",
    "# 显示一下\n",
    "display(Markdown(table))"
   ]
  },
  {
   "cell_type": "markdown",
   "metadata": {},
   "source": [
    "## 房价与房间数的关系\n",
    "\n",
    "为了统计房价和房间数的关系，获取最大的性价比，这里对户型进行聚合。但是发现key值不理想："
   ]
  },
  {
   "cell_type": "code",
   "execution_count": 97,
   "metadata": {},
   "outputs": [
    {
     "data": {
      "text/plain": [
       "[('3室1厅',),\n",
       " ('2室1厅',),\n",
       " ('1室1厅',),\n",
       " ('2室2厅',),\n",
       " ('3室2厅',),\n",
       " ('1室0厅',),\n",
       " ('2室0厅',),\n",
       " ('2房间2卫',),\n",
       " ('3室0厅',),\n",
       " ('5室2厅',),\n",
       " ('4室2厅',),\n",
       " ('3室3厅',),\n",
       " ('3房间2卫',),\n",
       " ('1房间1卫',),\n",
       " ('1房间0卫',),\n",
       " ('4室1厅',),\n",
       " ('2房间1卫',),\n",
       " ('4房间1卫',),\n",
       " ('4房间2卫',),\n",
       " ('3房间1卫',),\n",
       " ('6室4厅',),\n",
       " ('5室3厅',),\n",
       " ('6室2厅',),\n",
       " ('5室4厅',),\n",
       " ('4室3厅',),\n",
       " ('5房间2卫',),\n",
       " ('3房间0卫',),\n",
       " ('2房间0卫',),\n",
       " ('6室3厅',),\n",
       " ('7室3厅',),\n",
       " ('1室2厅',),\n",
       " ('7室2厅',),\n",
       " ('5室1厅',),\n",
       " ('4室4厅',),\n",
       " ('6房间3卫',),\n",
       " ('8室3厅',),\n",
       " ('8室2厅',),\n",
       " ('6室5厅',),\n",
       " ('1室3厅',),\n",
       " ('9室2厅',),\n",
       " ('5房间3卫',),\n",
       " ('4房间3卫',),\n",
       " ('6房间4卫',),\n",
       " ('11房间3卫',),\n",
       " ('9室1厅',),\n",
       " ('4室0厅',),\n",
       " ('2室3厅',),\n",
       " ('8室4厅',),\n",
       " ('6室1厅',),\n",
       " ('9室3厅',),\n",
       " ('7房间2卫',),\n",
       " ('5房间0卫',),\n",
       " ('3房间3卫',),\n",
       " ('8室5厅',),\n",
       " ('5室0厅',),\n",
       " ('6室0厅',),\n",
       " ('1房间2卫',),\n",
       " ('6房间5卫',),\n",
       " ('7室1厅',)]"
      ]
     },
     "execution_count": 97,
     "metadata": {},
     "output_type": "execute_result"
    }
   ],
   "source": [
    "list(aggregate(correct_datas, ['Layout'], lambda data: float(data[price_index])).keys())"
   ]
  },
  {
   "cell_type": "markdown",
   "metadata": {},
   "source": [
    "这时写一个函数读取一下户型中房间数，再进行一重聚合："
   ]
  },
  {
   "cell_type": "code",
   "execution_count": 35,
   "metadata": {},
   "outputs": [
    {
     "data": {
      "text/plain": [
       "{'房间': 11, '卫': 3}"
      ]
     },
     "execution_count": 35,
     "metadata": {},
     "output_type": "execute_result"
    }
   ],
   "source": [
    "def read_layout(layout):\n",
    "    count = 0\n",
    "    unit = ''\n",
    "    properties = {}\n",
    "    number_expected = True\n",
    "    for char in layout:\n",
    "        if char in [str(i) for i in range(10)]:\n",
    "            if not number_expected:\n",
    "                number_expected = True\n",
    "                properties[unit] = count\n",
    "                count = 0\n",
    "                unit = ''\n",
    "            count = count * 10 + int(char)\n",
    "        else:\n",
    "            if number_expected:\n",
    "                number_expected = False\n",
    "            unit = unit + char\n",
    "    properties[unit] = count\n",
    "    return properties\n",
    "            \n",
    "        \n",
    "read_layout('11房间3卫')"
   ]
  },
  {
   "cell_type": "code",
   "execution_count": 86,
   "metadata": {},
   "outputs": [
    {
     "name": "stdout",
     "output_type": "stream",
     "text": [
      "--> 房间数与房价的关系\n",
      "\n",
      "    y ^\n",
      "   11 |         |         |         |         |         |         *\n",
      "      |\n",
      "    9 |         |        *|    **\n",
      "    8 |         | *       |*      * |  *      |   *     ** *      |         |         *\n",
      "    7 |         |*  *  * *|    *    |   **    *     *  *\n",
      "    6 |     ** *******************************|  ** ** **  *  * * |   **    |    *    |         |         *\n",
      "    5 |   ** ************************************** * *****   *** |   * *   |  * *    |    *    | **     **         *\n",
      "    4 | *************************************************************** **  * ** **   ** * * *  *         |         |         *\n",
      "    3 | *******************************************************  ** ****** *| *    *  |*\n",
      "    2 |**************************************** ***   * |*  *\n",
      "    1 |*************************  **|*  *     |    *    |         |         |         *\n",
      "      |\n",
      "      |0        |500      |1000     |1500     |2000     |2500     |3000     |3500     |4000     |4500     |5000     |5500     |6000 ->x\n"
     ]
    }
   ],
   "source": [
    "res = aggregate(correct_datas, ['Layout'], lambda data: float(data[price_index]))\n",
    "layout_price = {}\n",
    "\n",
    "for key in sorted(res.keys()):\n",
    "    layout = read_layout(key[0])\n",
    "    room_count = layout.get('房间', layout.get('室', 0))\n",
    "    layout_price[room_count] = layout_price.get(room_count, []) + res[key]\n",
    "\n",
    "# x/y轴精确度\n",
    "accu_y = 1\n",
    "accu_x = 50\n",
    "# 每多少个x的点, 打一个刻度\n",
    "label_per_x = 10\n",
    "# 打点\n",
    "points = {}\n",
    "max_price = 0\n",
    "for key in sorted(layout_price):\n",
    "    val = layout_price[key]\n",
    "    if max(val) > max_price:\n",
    "        max_price = max(val)\n",
    "    points[key] = set([int(i/accu_x) for i in layout_price[key]])\n",
    "\n",
    "print('--> 房间数与房价的关系\\n')\n",
    "my_plot(points, max_price)"
   ]
  },
  {
   "cell_type": "markdown",
   "metadata": {},
   "source": [
    "由图可见，单单纯纯考虑最低价来说，2、3、4房其实性价比均可。房间数越多，底价越高，其中4房的户型价格偏差最大。"
   ]
  },
  {
   "cell_type": "code",
   "execution_count": null,
   "metadata": {},
   "outputs": [],
   "source": []
  }
 ],
 "metadata": {
  "kernelspec": {
   "display_name": "Python 3",
   "language": "python",
   "name": "python3"
  },
  "language_info": {
   "codemirror_mode": {
    "name": "ipython",
    "version": 3
   },
   "file_extension": ".py",
   "mimetype": "text/x-python",
   "name": "python",
   "nbconvert_exporter": "python",
   "pygments_lexer": "ipython3",
   "version": "3.6.9"
  }
 },
 "nbformat": 4,
 "nbformat_minor": 4
}
