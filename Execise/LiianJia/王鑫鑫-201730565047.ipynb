{
 "cells": [
  {
   "cell_type": "code",
   "execution_count": 4,
   "metadata": {},
   "outputs": [
    {
     "name": "stdout",
     "output_type": "stream",
     "text": [
      "Enter your file:lianjia.csv\n",
      "['Direction', 'District', 'Elevator', 'Floor', 'Garden', 'Id', 'Layout', 'Price', 'Region', 'Renovation', 'Size', 'Year']\n",
      "行数: 23678\n",
      "均值: 12.764549370723879 101098092835.07306 610.6425289298085 99.1451136075682 2001.2419967902695\n",
      "最大值: 57.0 101102751457.0 6000.0 1019.0 2017.0\n",
      "最小值: 1.0 101088604521.0 60.0 2.0 1950.0\n",
      "标准差: 7.6437703829936225 565235.7683747564 411.44341765208844 50.98776121544491 9.001805787277933\n",
      "方差: 58.427225667930465 319491473850.20135 169285.68592923088 2599.7517937632288 81.03250743187048\n",
      "最大频数: 7662.0 3.0 319.0 476.0 1758.0\n",
      "第一四分位数: 18.0 101102245068.5 310.0 149.0 1997.0\n",
      "中位数: 28 101102507441 432 57.0 2003\n",
      "第三四分位数: 6.0 101102651036.0 598.0 79.0 2007.0\n",
      "\n",
      "[10486, 20217, 20269, 20308, 20420, 20548, 20658, 20699, 20728, 21269, 21875, 22399]\n",
      "最老的房子为: ['101102620516', '101102535624', '101101765492', '101102154078', '101101682036', '101102640400', '101102471513', '101101834580', '101102678644', '101102654975', '101102714870', '101102728725']\n"
     ]
    }
   ],
   "source": [
    "fname=input(\"Enter your file:\")  #输入文件：lianjia.csv\n",
    "all_list=[]\n",
    "count=0\n",
    "with open(fname,encoding=\"utf-8\") as csvfile:\n",
    "    for line in csvfile.readlines():\n",
    "        if line.strip() != \"\":\n",
    "            all_list.append(line.strip().split(\",\"))\n",
    "            count =count+1\n",
    "\n",
    "print(all_list[0])\n",
    "print(\"行数:\",count)\n",
    "#均值\n",
    "without_head=all_list[1:]\n",
    "sum_floor=0\n",
    "sum_id=0\n",
    "sum_price=0\n",
    "sum_size=0\n",
    "sum_year=0\n",
    "floor=list()\n",
    "Id=list()\n",
    "price=list()\n",
    "size=list()\n",
    "year=list()\n",
    "for line in without_head:\n",
    "    floor.append(line[3])\n",
    "    Id.append(line[5])\n",
    "    price.append(line[7])\n",
    "    size.append(line[10])\n",
    "    year.append(line[11])\n",
    "for f in floor:\n",
    "    sum_floor=sum_floor+float(f)\n",
    "for i in Id:\n",
    "    sum_id =sum_id+float(i)\n",
    "for p in price:\n",
    "    sum_price=sum_price+float(p)\n",
    "for s in size:\n",
    "    sum_size=sum_size+float(s)\n",
    "for y in year:\n",
    "    sum_year=sum_year+float(y)\n",
    "mean_floor=sum_floor/count\n",
    "mean_id=sum_id/count\n",
    "mean_price=sum_price/count\n",
    "mean_size=sum_size/count\n",
    "mean_year=sum_year/count\n",
    "\n",
    "#最大值\n",
    "def max(numlist):\n",
    "    max1=None\n",
    "    for num in numlist:\n",
    "        num1=float(num)\n",
    "        if max1 is None:\n",
    "            max1=num1\n",
    "            continue\n",
    "        elif max1 < num1:\n",
    "            max1=num1\n",
    "    return max1\n",
    "max_floor=max(floor)\n",
    "max_id=max(Id)\n",
    "max_price=max(price)\n",
    "max_size=max(size)\n",
    "max_year=max(year)\n",
    "\n",
    "\n",
    "#最小值\n",
    "def min(numlist):\n",
    "    min1=None\n",
    "    for num in numlist:\n",
    "        num1=float(num)\n",
    "        if min1 is None:\n",
    "            min1=num1\n",
    "            continue\n",
    "        elif min1 > num1:\n",
    "            min1=num1\n",
    "    return min1\n",
    "min_floor=min(floor)\n",
    "min_id=min(Id)\n",
    "min_price=min(price)\n",
    "min_size=min(size)\n",
    "min_year=min(year)\n",
    "\n",
    "\n",
    "#方差\n",
    "def var(numlist):\n",
    "    sum=0\n",
    "    for num in numlist:\n",
    "        num1=float(num)\n",
    "        sum=sum+num1\n",
    "    mean=sum/len(numlist)\n",
    "    var1=0\n",
    "    for num in numlist:\n",
    "        num2=float(num)\n",
    "        var1=var1+(num2-mean)**2\n",
    "    var2=var1/len(numlist)\n",
    "    return var2\n",
    "var_floor=var(floor)\n",
    "var_id=var(Id)\n",
    "var_price=var(price)\n",
    "var_size=var(size)\n",
    "var_year=var(year)\n",
    "\n",
    "#标准差\n",
    "std_floor=var(floor)**0.5\n",
    "std_id=var(Id)**0.5\n",
    "std_price=var(price)**0.5\n",
    "std_size=var(size)**0.5\n",
    "std_year=var(year)**0.5\n",
    "#最大频数\n",
    "def mode(numlist):\n",
    "    numlist1=sorted(numlist,reverse=True)\n",
    "    i=1\n",
    "    count=0\n",
    "    frequence=list()\n",
    "    while i < len(numlist1):\n",
    "        if numlist1[i-1] == numlist1[i]:\n",
    "            count=count+1\n",
    "        else:\n",
    "            frequence.append(count)\n",
    "            count=0\n",
    "        i=i+1\n",
    "    mode1=max(frequence)+1\n",
    "    return mode1\n",
    "mode_floor=mode(floor)\n",
    "mode_id=mode(Id)\n",
    "mode_price=mode(price)\n",
    "mode_size=mode(size)\n",
    "mode_year=mode(year)\n",
    "\n",
    "#分位数\n",
    "def quantile(numlist,q):\n",
    "    numlist1=sorted(numlist)\n",
    "    i1=(len(numlist1)+1)*q\n",
    "    if i1 == int(i1):\n",
    "        d=numlist1[int(i1)]\n",
    "    else:\n",
    "        a=float(numlist1[int(i1)])\n",
    "        b=float(numlist1[int(i1)+1])\n",
    "        d=a+(b-a)*(i1-int(i1))\n",
    "    return d\n",
    "q25floor=quantile(floor,0.25)\n",
    "q50floor=quantile(floor,0.5)\n",
    "q75floor=quantile(floor,0.75)\n",
    "q25id=quantile(Id,0.25)\n",
    "q50id=quantile(Id,0.5)\n",
    "q75id=quantile(Id,0.75)\n",
    "q25price=quantile(price,0.25)\n",
    "q50price=quantile(price,0.5)\n",
    "q75price=quantile(price,0.75)\n",
    "q25size=quantile(size,0.25)\n",
    "q50size=quantile(size,0.50)\n",
    "q75size=quantile(size,0.75)\n",
    "q25year=quantile(year,0.25)\n",
    "q50year=quantile(year,0.50)\n",
    "q75year=quantile(year,0.75)\n",
    "\n",
    "print(\"均值:\",mean_floor,mean_id,mean_price,mean_size,mean_year)\n",
    "print(\"最大值:\",max_floor,max_id,max_price,max_size,max_year)\n",
    "print(\"最小值:\",min_floor,min_id,min_price,min_size,min_year)\n",
    "print(\"标准差:\",std_floor,std_id,std_price,std_size,std_year)\n",
    "print(\"方差:\",var_floor,var_id,var_price,var_size,var_year)\n",
    "print(\"最大频数:\",mode_floor,mode_id,mode_price,mode_size,mode_year)\n",
    "print(\"第一四分位数:\",q25floor,q25id,q25price,q25size,q25year)\n",
    "print(\"中位数:\",q50floor,q50id,q50price,q50size,q50year)\n",
    "print(\"第三四分位数:\",q75floor,q75id,q75price,q75size,q75year)\n",
    "print(\"\")\n",
    "#最老的房子是哪一栋？\n",
    "#思路：使用已经定义的关于year的最小值函数，再使用enumerate函数找到对应的房子的id。\n",
    "year1=list()\n",
    "for i,element in enumerate(year):   #实现多个同一值的索引值的查找\n",
    "    if element == str(int(min_year)):\n",
    "        year1.append(i)\n",
    "print(year1)\n",
    "Id1=list()\n",
    "for y in year1:\n",
    "    Id1.append(without_head[y])\n",
    "\n",
    "Id2=list()\n",
    "for i in Id1:\n",
    "    Id2.append(i[5])\n",
    "print(\"最老的房子为:\",Id2)                         #打出符合条件的房子的ID"
   ]
  },
  {
   "cell_type": "code",
   "execution_count": 2,
   "metadata": {},
   "outputs": [
    {
     "name": "stdout",
     "output_type": "stream",
     "text": [
      "['Direction', 'District', 'Elevator', 'Floor', 'Garden', 'Id', 'Layout', 'Price', 'Region', 'Renovation', 'Size', 'Year']\n"
     ]
    }
   ],
   "source": []
  },
  {
   "cell_type": "code",
   "execution_count": 25,
   "metadata": {},
   "outputs": [
    {
     "name": "stdout",
     "output_type": "stream",
     "text": [
      "12.764549370723879 101098092835.07306 610.6425289298085 99.1451136075682 2001.2419967902695\n"
     ]
    }
   ],
   "source": []
  },
  {
   "cell_type": "code",
   "execution_count": 11,
   "metadata": {},
   "outputs": [
    {
     "name": "stdout",
     "output_type": "stream",
     "text": [
      "57.0 101102751457.0 6000.0 1019.0 2017.0\n"
     ]
    }
   ],
   "source": []
  },
  {
   "cell_type": "code",
   "execution_count": 12,
   "metadata": {},
   "outputs": [
    {
     "name": "stdout",
     "output_type": "stream",
     "text": [
      "1.0 101088604521.0 60.0 2.0 1950.0\n"
     ]
    }
   ],
   "source": [
    "\n",
    "    "
   ]
  },
  {
   "cell_type": "code",
   "execution_count": 13,
   "metadata": {},
   "outputs": [
    {
     "name": "stdout",
     "output_type": "stream",
     "text": [
      "58.427225667930465 319491473850.20135 169285.68592923088 2599.7517937632288 81.03250743187048\n"
     ]
    }
   ],
   "source": []
  },
  {
   "cell_type": "code",
   "execution_count": 52,
   "metadata": {},
   "outputs": [],
   "source": []
  },
  {
   "cell_type": "code",
   "execution_count": 24,
   "metadata": {},
   "outputs": [
    {
     "name": "stdout",
     "output_type": "stream",
     "text": [
      "7662.0 3.0 319.0 476.0 1758.0\n"
     ]
    }
   ],
   "source": []
  },
  {
   "cell_type": "code",
   "execution_count": 53,
   "metadata": {},
   "outputs": [],
   "source": []
  },
  {
   "cell_type": "code",
   "execution_count": null,
   "metadata": {},
   "outputs": [],
   "source": []
  },
  {
   "cell_type": "code",
   "execution_count": null,
   "metadata": {},
   "outputs": [],
   "source": []
  }
 ],
 "metadata": {
  "kernelspec": {
   "display_name": "Python 3",
   "language": "python",
   "name": "python3"
  },
  "language_info": {
   "codemirror_mode": {
    "name": "ipython",
    "version": 3
   },
   "file_extension": ".py",
   "mimetype": "text/x-python",
   "name": "python",
   "nbconvert_exporter": "python",
   "pygments_lexer": "ipython3",
   "version": "3.7.6"
  }
 },
 "nbformat": 4,
 "nbformat_minor": 4
}
